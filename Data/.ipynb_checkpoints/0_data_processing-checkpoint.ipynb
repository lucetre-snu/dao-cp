{
 "cells": [
  {
   "cell_type": "markdown",
   "metadata": {},
   "source": [
    "### Air Quality Tensor\n",
    "* `<date> <location> <air pollutants> (measurement)`\n",
    "* Beijing Air Quality\n",
    "  * 2,454,305 out of 2,524,536 (35,063 * 12 * 6)\n",
    "* Korea Air Quality\n",
    "  * 11,270,028 out of 18,368,364 (9,478 * 323 * 6)\n",
    "* Madrid Air Quality\n",
    "  * 8,036,759 out of 21,587,328 (64,248 * 24 * 14)"
   ]
  },
  {
   "cell_type": "code",
   "execution_count": 1,
   "metadata": {},
   "outputs": [
    {
     "name": "stdout",
     "output_type": "stream",
     "text": [
      "             0  1  2      3\n",
      "0            0  5  4    6.0\n",
      "1            0  5  3   18.0\n",
      "2            0  5  5    5.0\n",
      "3            0  5  0  800.0\n",
      "4            0  5  2   88.0\n",
      "...        ... .. ..    ...\n",
      "2454300  35063  8  3   22.0\n",
      "2454301  35063  8  5   13.0\n",
      "2454302  35063  8  1   34.0\n",
      "2454303  35063  8  0  500.0\n",
      "2454304  35063  8  2   60.0\n",
      "\n",
      "[2454305 rows x 4 columns]\n",
      ">> air_quality loaded  0.5417914390563965\n"
     ]
    }
   ],
   "source": [
    "import csv\n",
    "import time\n",
    "import numpy as np\n",
    "import pandas as pd\n",
    "\n",
    "beijing_df = pd.read_csv('../Data/air_quality/BeijingAirQuality/beijing.tensor', delimiter='\\t', header=None)\n",
    "korea_df = pd.read_csv('../Data/air_quality/KoreaAirQuality/korea_airquality.tensor', delimiter='\\t', header=None)\n",
    "madrid_df = pd.read_csv('../Data/air_quality/MadridAirQuality/1hour_madrid.tensor', delimiter='\\t', header=None)"
   ]
  },
  {
   "cell_type": "code",
   "execution_count": 40,
   "metadata": {},
   "outputs": [],
   "source": [
    "def get_tensor(df):\n",
    "    start = time.time()\n",
    "\n",
    "    dims = df[[0,1,2]].max()+1\n",
    "    tensor = np.empty(dims) * np.nan\n",
    "    tensor.shape\n",
    "\n",
    "    for i, row in df.iterrows():\n",
    "        indices = [[index] for index in np.int64(np.asarray(row[:-1]))]\n",
    "        tensor[tuple(indices)] = np.double(row[3])\n",
    "\n",
    "    avg = []\n",
    "    for i in range(tensor.shape[2]):\n",
    "        avg.append(np.nanmean(tensor[:,:,i]))\n",
    "    inds = np.where(np.isnan(tensor))\n",
    "    for ind in zip(inds[0], inds[1], inds[2]):\n",
    "        tensor[ind] = avg[ind[-1]]\n",
    "        \n",
    "    print(time.time() - start)\n",
    "    return tensor"
   ]
  },
  {
   "cell_type": "code",
   "execution_count": null,
   "metadata": {
    "scrolled": true
   },
   "outputs": [],
   "source": [
    "beijing_tensor = get_tensor(beijing_df)\n",
    "korea_tensor = get_tensor(korea_df)\n",
    "madrid_tensor = get_tensor(madrid_df)"
   ]
  },
  {
   "cell_type": "code",
   "execution_count": null,
   "metadata": {},
   "outputs": [],
   "source": [
    "np.where(np.isnan(beijing_tensor))\n",
    "np.where(np.isnan(korea_tensor))\n",
    "np.where(np.isnan(madrid_tensor))"
   ]
  },
  {
   "cell_type": "code",
   "execution_count": null,
   "metadata": {},
   "outputs": [],
   "source": [
    "print(beijing_tensor.shape)\n",
    "print(korea_tensor.shape)\n",
    "print(madrid_tensor.shape)"
   ]
  }
 ],
 "metadata": {
  "kernelspec": {
   "display_name": "Python 3",
   "language": "python",
   "name": "python3"
  },
  "language_info": {
   "codemirror_mode": {
    "name": "ipython",
    "version": 3
   },
   "file_extension": ".py",
   "mimetype": "text/x-python",
   "name": "python",
   "nbconvert_exporter": "python",
   "pygments_lexer": "ipython3",
   "version": "3.8.3"
  }
 },
 "nbformat": 4,
 "nbformat_minor": 4
}
