{
 "cells": [
  {
   "cell_type": "markdown",
   "metadata": {},
   "source": [
    "### Air Quality Tensor\n",
    "* `<date> <location> <air pollutants> (measurement)`\n",
    "* Beijing Air Quality\n",
    "  * 2,454,305 out of 2,524,536 (35,063 * 12 * 6)\n",
    "* Korea Air Quality\n",
    "  * 11,270,028 out of 18,368,364 (9,478 * 323 * 6)\n",
    "* Madrid Air Quality\n",
    "  * 8,036,759 out of 21,587,328 (64,248 * 24 * 14)"
   ]
  },
  {
   "cell_type": "code",
   "execution_count": 1,
   "metadata": {},
   "outputs": [],
   "source": [
    "import csv\n",
    "import time\n",
    "import numpy as np\n",
    "import pandas as pd"
   ]
  },
  {
   "cell_type": "code",
   "execution_count": null,
   "metadata": {},
   "outputs": [],
   "source": [
    "beijing_df = pd.read_csv('../Data/air_quality/BeijingAirQuality/beijing.tensor', delimiter='\\t', header=None)\n",
    "korea_df = pd.read_csv('../Data/air_quality/KoreaAirQuality/korea_airquality.tensor', delimiter='\\t', header=None)\n",
    "madrid_df = pd.read_csv('../Data/air_quality/MadridAirQuality/1hour_madrid.tensor', delimiter='\\t', header=None)"
   ]
  },
  {
   "cell_type": "code",
   "execution_count": 40,
   "metadata": {},
   "outputs": [],
   "source": [
    "def get_tensor(df):\n",
    "    start = time.time()\n",
    "\n",
    "    dims = df[[0,1,2]].max()+1\n",
    "    tensor = np.empty(dims) * np.nan\n",
    "    tensor.shape\n",
    "\n",
    "    for i, row in df.iterrows():\n",
    "        indices = [[index] for index in np.int64(np.asarray(row[:-1]))]\n",
    "        tensor[tuple(indices)] = np.double(row[3])\n",
    "\n",
    "    avg = []\n",
    "    for i in range(tensor.shape[2]):\n",
    "        avg.append(np.nanmean(tensor[:,:,i]))\n",
    "    inds = np.where(np.isnan(tensor))\n",
    "    for ind in zip(inds[0], inds[1], inds[2]):\n",
    "        tensor[ind] = avg[ind[-1]]\n",
    "        \n",
    "    print(time.time() - start)\n",
    "    return tensor"
   ]
  },
  {
   "cell_type": "code",
   "execution_count": null,
   "metadata": {
    "scrolled": true
   },
   "outputs": [
    {
     "name": "stdout",
     "output_type": "stream",
     "text": [
      "349.54751777648926\n",
      "2572.3920905590057\n"
     ]
    }
   ],
   "source": [
    "beijing_tensor = get_tensor(beijing_df)\n",
    "korea_tensor = get_tensor(korea_df)\n",
    "madrid_tensor = get_tensor(madrid_df)"
   ]
  },
  {
   "cell_type": "code",
   "execution_count": null,
   "metadata": {},
   "outputs": [],
   "source": [
    "np.where(np.isnan(beijing_tensor))\n",
    "np.where(np.isnan(korea_tensor))\n",
    "np.where(np.isnan(madrid_tensor))"
   ]
  },
  {
   "cell_type": "code",
   "execution_count": null,
   "metadata": {},
   "outputs": [],
   "source": [
    "print(beijing_tensor.shape)\n",
    "print(korea_tensor.shape)\n",
    "print(madrid_tensor.shape)"
   ]
  },
  {
   "cell_type": "markdown",
   "metadata": {},
   "source": [
    "### Hall from OLSTEC\n",
    "* `hall1-200.mat`: 144 * 176 * 200\n",
    "* `hall_144x100_frame2900-3899_pan.mat`: 144 * 100 * 1000"
   ]
  },
  {
   "cell_type": "code",
   "execution_count": 11,
   "metadata": {},
   "outputs": [],
   "source": [
    "# for sample video\n",
    "from cv2 import VideoWriter, VideoWriter_fourcc, imshow\n",
    "\n",
    "def make_video(tensor, filename, isColor=True):\n",
    "    start = time.time()\n",
    "    height = tensor.shape[1]\n",
    "    width = tensor.shape[2]\n",
    "    FPS = 24\n",
    "\n",
    "    fourcc = VideoWriter_fourcc(*'MP42')\n",
    "    video = VideoWriter(filename, fourcc, float(FPS), (width, height), isColor)\n",
    "\n",
    "    for frame in tensor:\n",
    "        video.write(np.uint8(frame))\n",
    "    video.release()\n",
    "    print('created', filename, time.time()-start)"
   ]
  },
  {
   "cell_type": "code",
   "execution_count": 9,
   "metadata": {},
   "outputs": [
    {
     "name": "stdout",
     "output_type": "stream",
     "text": [
      "created hall1.avi 0.20291566848754883\n"
     ]
    }
   ],
   "source": [
    "from scipy.io import loadmat\n",
    "hall1 = loadmat('../Data/hall/hall1-200.mat')['XO']\n",
    "hall1 = np.moveaxis(hall1, -1, 0)\n",
    "hall1 = hall1.reshape(200, 144, 176, order='F')\n",
    "# hall1.shape\n",
    "\n",
    "make_video(hall1, 'hall1.avi', False)"
   ]
  },
  {
   "cell_type": "code",
   "execution_count": 10,
   "metadata": {},
   "outputs": [
    {
     "name": "stdout",
     "output_type": "stream",
     "text": [
      "created hall2.avi 0.5112717151641846\n"
     ]
    }
   ],
   "source": [
    "import h5py\n",
    "with h5py.File('../Data/hall/hall_144x100_frame2900-3899_pan.mat', 'r') as f:\n",
    "    hall2 = np.array(f['X0'])\n",
    "    hall2 = hall2.reshape(1000, 144, 100, order='F')\n",
    "    make_video(hall2, 'hall2.avi', False)"
   ]
  },
  {
   "cell_type": "code",
   "execution_count": null,
   "metadata": {},
   "outputs": [],
   "source": []
  }
 ],
 "metadata": {
  "kernelspec": {
   "display_name": "Python 3",
   "language": "python",
   "name": "python3"
  },
  "language_info": {
   "codemirror_mode": {
    "name": "ipython",
    "version": 3
   },
   "file_extension": ".py",
   "mimetype": "text/x-python",
   "name": "python",
   "nbconvert_exporter": "python",
   "pygments_lexer": "ipython3",
   "version": "3.8.3"
  }
 },
 "nbformat": 4,
 "nbformat_minor": 4
}
