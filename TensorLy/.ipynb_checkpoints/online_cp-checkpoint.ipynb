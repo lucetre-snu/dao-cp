{
 "cells": [
  {
   "cell_type": "markdown",
   "metadata": {},
   "source": [
    "# Online CP"
   ]
  },
  {
   "cell_type": "code",
   "execution_count": 5,
   "metadata": {},
   "outputs": [],
   "source": [
    "import time\n",
    "import numpy as np\n",
    "import tensorly as tl\n",
    "from tensorly.decomposition import parafac\n",
    "from tensorly.decomposition.candecomp_parafac import initialize_factors, unfolding_dot_khatri_rao, KruskalTensor"
   ]
  },
  {
   "cell_type": "code",
   "execution_count": 259,
   "metadata": {},
   "outputs": [],
   "source": [
    "def construct_tensor(factors):\n",
    "    weights = tl.ones(factors[0].shape[1])\n",
    "    est_tensor = tl.kruskal_to_tensor((weights, factors))\n",
    "    return est_tensor\n",
    "    \n",
    "def print_tensor(X):\n",
    "    print(np.round(X, 1))\n",
    "    \n",
    "def compare_tensors(A, B):\n",
    "    print('||A-B||:', tl.norm(A - B))\n",
    "    \n",
    "def get_KhatriRao(factors):\n",
    "    n_dim = len(factors)\n",
    "    lefts = [factors[n_dim-1]]\n",
    "    rights = [factors[0]]\n",
    "    if n_dim > 2:\n",
    "        for mode in range(1, n_dim-1):\n",
    "            lefts.append(tl.tenalg.khatri_rao((lefts[mode-1], factors[n_dim-mode-1])))\n",
    "            rights.append(tl.tenalg.khatri_rao((factors[mode], rights[mode-1])))\n",
    "            \n",
    "    K = lefts.copy()\n",
    "    K[0] = lefts[n_dim-2]\n",
    "    K.append(rights[n_dim-2].copy())\n",
    "    if n_dim > 2:\n",
    "        for mode in range(1, n_dim-1):\n",
    "            K[mode] = tl.tenalg.khatri_rao((lefts[n_dim-mode-2], rights[mode-1]))\n",
    "    return K\n",
    "\n",
    "def get_KhatriRao_except0(factors):\n",
    "    n_dim = len(factors)\n",
    "    lefts = np.empty((n_dim), dtype=object)\n",
    "    rights = np.empty((n_dim), dtype=object)\n",
    "    K = np.empty((n_dim), dtype=object)\n",
    "    \n",
    "    lefts[1] = factors[n_dim-1]\n",
    "    rights[1] = factors[1]\n",
    "    if n_dim > 3:\n",
    "        for mode in range(2, n_dim-1):\n",
    "            lefts[mode] = tl.tenalg.khatri_rao((factors[n_dim-mode], lefts[mode-1]))\n",
    "            rights[mode] = tl.tenalg.khatri_rao((rights[mode-1], factors[mode]))\n",
    "            \n",
    "    K[1] = lefts[n_dim-2]\n",
    "    K[n_dim-1] = rights[n_dim-2]\n",
    "    if n_dim > 3: \n",
    "        for mode in range(2, n_dim-1):\n",
    "            K[mode] = tl.tenalg.khatri_rao((rights[mode-1], lefts[n_dim-mode-1]))\n",
    "    return K\n",
    "    \n",
    "def get_Hadamard(factors):\n",
    "    rank = factors[0].shape[1]\n",
    "    H = tl.tensor(np.ones((rank, rank)))\n",
    "    for factor in factors:\n",
    "        H = H * tl.dot(tl.transpose(factor), factor)\n",
    "    return H"
   ]
  },
  {
   "cell_type": "code",
   "execution_count": 308,
   "metadata": {},
   "outputs": [
    {
     "name": "stdout",
     "output_type": "stream",
     "text": [
      "exec time: 1.720034122467041\n",
      "iter time: 1.2867341041564941\n",
      "exec time: 1.2896513938903809\n",
      "||A-B||: 1298.5915006641983\n",
      "[-0.6  0.4  1.4  2.4  3.4  4.4  5.4  6.5  7.5  8.5]\n"
     ]
    }
   ],
   "source": [
    "def online_cp(factors_old, X_old, X_new, rank, P, Q, verbose=False):\n",
    "    weights = tl.ones(rank)\n",
    "    if verbose:\n",
    "        X = tl.tensor(np.concatenate((X_old, X_new)))\n",
    "    n_dim = tl.ndim(X_old)\n",
    "    U = factors_old.copy()\n",
    "    \n",
    "    K = get_KhatriRao_except0(factors_old)\n",
    "    H = get_Hadamard(factors_old[1:])\n",
    "    \n",
    "    for i in range(1):\n",
    "        start = time.time()\n",
    "\n",
    "        # temporal mode for A1\n",
    "        mttkrp = tl.dot(tl.unfold(X_new, 0), tl.tenalg.khatri_rao((U[1], K[1])))\n",
    "        \n",
    "        # # for higher accracy\n",
    "        # mttkrp_parts = []\n",
    "        # for r in range(rank):\n",
    "        #     component = tl.tenalg.multi_mode_dot(X_new, [f[:, r] for f in U], skip=0)\n",
    "        #     mttkrp_parts.append(component)\n",
    "        # mttkrp = np.stack(mttkrp_parts, axis=1)\n",
    "        \n",
    "        A1 = tl.transpose(tl.solve(tl.transpose(H), tl.transpose(mttkrp)))\n",
    "\n",
    "        # non-temporal mode\n",
    "        for mode in range(1, n_dim):\n",
    "            P[mode] = P[mode] + tl.dot(tl.unfold(X_new, mode), tl.tenalg.khatri_rao((A1, K[mode])))\n",
    "            H_mode  = H / tl.dot(tl.transpose(U[mode]), U[mode])\n",
    "            Q[mode] = Q[mode] + tl.dot(tl.transpose(A1), A1) * H_mode\n",
    "            U[mode] = tl.transpose(tl.solve(tl.transpose(Q[mode]), tl.transpose(P[mode])))\n",
    "        \n",
    "#         if transformed:\n",
    "#             # temporal mode for A0\n",
    "#             V = tl.tensor(np.ones((rank, rank)))\n",
    "#             for j, factor in enumerate(U):\n",
    "#                 if j != 0:\n",
    "#                     V = V * tl.dot(tl.transpose(factor), factor)\n",
    "#             mttkrp = unfolding_dot_khatri_rao(X_old, (None, U), 0)\n",
    "#             U[0] = tl.transpose(tl.solve(tl.transpose(V), tl.transpose(mttkrp)))\n",
    "            \n",
    "            if verbose:\n",
    "                U1 = U.copy()\n",
    "                U1[0] = np.concatenate((U[0], A1))\n",
    "                X_est = construct_tensor(U1)\n",
    "                compare_tensors(X, X_est)\n",
    "        \n",
    "        print('iter time:', time.time()-start)\n",
    "\n",
    "    U[0] = np.concatenate((U[0], A1))\n",
    "    return (KruskalTensor((weights, U)), P, Q)\n",
    "\n",
    "\n",
    "init_time = time.time()"
   ]
  },
  {
   "cell_type": "code",
   "execution_count": 309,
   "metadata": {},
   "outputs": [
    {
     "name": "stdout",
     "output_type": "stream",
     "text": [
      "\n",
      " >> online_cp\n"
     ]
    },
    {
     "name": "stderr",
     "output_type": "stream",
     "text": [
      "/home/lucetre/.local/lib/python3.8/site-packages/tensorly/backend/core.py:721: RuntimeWarning: invalid value encountered in sqrt\n",
      "  S = np.where(np.abs(S) <= np.finfo(S.dtype).eps, 0, np.sqrt(S))\n"
     ]
    },
    {
     "name": "stdout",
     "output_type": "stream",
     "text": [
      "init time: 20.87971305847168\n",
      "exec time: 1.5239553451538086\n",
      "iter time: 1.6252360343933105\n",
      "exec time: 1.6291756629943848\n",
      "||A-B||: 937.5153908790224\n",
      "[0.6 1.6 2.6 3.6 4.6 5.6 6.5 7.5 8.5 9.5]\n"
     ]
    }
   ],
   "source": [
    "tensor = tl.tensor(np.arange(120000000, dtype='d').reshape((50, 40, 300, 200)))\n",
    "X_old = tensor[:30,:,:,:]\n",
    "X_new = tensor[30:,:,:,:]\n",
    "rank = 4\n",
    "n_dim = tl.ndim(tensor)\n",
    "\n",
    "X = np.concatenate((X_old, X_new))\n",
    "start = time.time()\n",
    "print('\\n >> online_cp')\n",
    "(weights, factors_old) = parafac(X_old, rank)\n",
    "print('init time:', time.time()-start)\n",
    "start = time.time()\n",
    "\n",
    "K = get_KhatriRao_except0(factors_old)\n",
    "H = get_Hadamard(factors_old)\n",
    "\n",
    "P = np.empty((n_dim), dtype=object)\n",
    "Q = np.empty((n_dim), dtype=object)\n",
    "for mode in range(1, n_dim):\n",
    "    P[mode] = tl.dot(tl.unfold(X_old, mode), tl.tenalg.khatri_rao((factors_old[0], K[mode])))\n",
    "    Q[mode] = H / tl.dot(tl.transpose(factors_old[mode]), factors_old[mode])\n",
    "print('exec time:', time.time()-start)\n",
    "\n",
    "start = time.time()\n",
    "((weights, factors), P, Q) = online_cp(factors_old, X_old, X_new, rank, P, Q, verbose=False)\n",
    "\n",
    "print('exec time:', time.time()-start)\n",
    "X_est = construct_tensor(factors)\n",
    "compare_tensors(X, X_est)\n",
    "print_tensor(X_est[0,0,0,:10])\n"
   ]
  }
 ],
 "metadata": {
  "kernelspec": {
   "display_name": "Python 3",
   "language": "python",
   "name": "python3"
  },
  "language_info": {
   "codemirror_mode": {
    "name": "ipython",
    "version": 3
   },
   "file_extension": ".py",
   "mimetype": "text/x-python",
   "name": "python",
   "nbconvert_exporter": "python",
   "pygments_lexer": "ipython3",
   "version": "3.8.3"
  }
 },
 "nbformat": 4,
 "nbformat_minor": 4
}
