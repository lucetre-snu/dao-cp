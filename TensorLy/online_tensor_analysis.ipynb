{
 "cells": [
  {
   "cell_type": "code",
   "execution_count": 12,
   "metadata": {
    "scrolled": true
   },
   "outputs": [
    {
     "name": "stdout",
     "output_type": "stream",
     "text": [
      "[[[ 0.  1.]\n",
      "  [ 2.  3.]\n",
      "  [ 4.  5.]\n",
      "  [ 6.  7.]]\n",
      "\n",
      " [[ 8.  9.]\n",
      "  [10. 11.]\n",
      "  [12. 13.]\n",
      "  [14. 15.]]\n",
      "\n",
      " [[16. 17.]\n",
      "  [18. 19.]\n",
      "  [20. 21.]\n",
      "  [22. 23.]]]\n",
      "3\n",
      "* mode-0 unfolding:\n",
      "[[ 0.  1.  2.  3.  4.  5.  6.  7.]\n",
      " [ 8.  9. 10. 11. 12. 13. 14. 15.]\n",
      " [16. 17. 18. 19. 20. 21. 22. 23.]]\n",
      "* mode-1 unfolding:\n",
      "[[ 0.  1.  8.  9. 16. 17.]\n",
      " [ 2.  3. 10. 11. 18. 19.]\n",
      " [ 4.  5. 12. 13. 20. 21.]\n",
      " [ 6.  7. 14. 15. 22. 23.]]\n",
      "* mode-2 unfolding:\n",
      "[[ 0.  2.  4.  6.  8. 10. 12. 14. 16. 18. 20. 22.]\n",
      " [ 1.  3.  5.  7.  9. 11. 13. 15. 17. 19. 21. 23.]]\n",
      "(3, 4, 2)\n"
     ]
    }
   ],
   "source": [
    "import numpy as np\n",
    "import tensorly as tl\n",
    "\n",
    "tensor = tl.tensor(np.arange(24, dtype='d').reshape((3, 4, 2)))\n",
    "\n",
    "print(tensor)\n",
    "print(tensor.ndim)\n",
    "\n",
    "for mode in range(tensor.ndim):\n",
    "    print('* mode-{} unfolding:\\n{}'.format(mode, tl.unfold(tensor, mode)))\n",
    "    \n",
    "print(tensor.shape)"
   ]
  },
  {
   "cell_type": "markdown",
   "metadata": {},
   "source": [
    "### TensorLy Decomposition Package"
   ]
  },
  {
   "cell_type": "code",
   "execution_count": 6,
   "metadata": {
    "scrolled": true
   },
   "outputs": [
    {
     "name": "stdout",
     "output_type": "stream",
     "text": [
      "[[[-0.05785963  1.06474682]\n",
      "  [ 1.99072479  3.01009381]\n",
      "  [ 4.03930922  4.95544081]\n",
      "  [ 6.08789364  6.9007878 ]]\n",
      "\n",
      " [[ 8.02013459  8.98316657]\n",
      "  [10.01080986 10.99006258]\n",
      "  [12.00148513 12.9969586 ]\n",
      "  [13.9921604  15.00385461]]\n",
      "\n",
      " [[16.09812881 16.90158632]\n",
      "  [18.03089492 18.97003135]\n",
      "  [19.96366103 21.03847639]\n",
      "  [21.89642715 23.10692142]]]\n",
      "* mode-0 unfolding:\n",
      "[[-0.1  1.1  2.   3.   4.   5.   6.1  6.9]\n",
      " [ 8.   9.  10.  11.  12.  13.  14.  15. ]\n",
      " [16.1 16.9 18.  19.  20.  21.  21.9 23.1]]\n",
      "* mode-1 unfolding:\n",
      "[[-0.1  1.1  8.   9.  16.1 16.9]\n",
      " [ 2.   3.  10.  11.  18.  19. ]\n",
      " [ 4.   5.  12.  13.  20.  21. ]\n",
      " [ 6.1  6.9 14.  15.  21.9 23.1]]\n",
      "* mode-2 unfolding:\n",
      "[[-0.1  2.   4.   6.1  8.  10.  12.  14.  16.1 18.  20.  21.9]\n",
      " [ 1.1  3.   5.   6.9  9.  11.  13.  15.  16.9 19.  21.  23.1]]\n",
      "[1. 1.]\n",
      "[array([[-20.97614427,  -1.56322999],\n",
      "       [-36.72369756,  -0.69562099],\n",
      "       [-52.47125086,   0.171988  ]]), array([[ 0.41520439, -1.53993065],\n",
      "       [ 0.47088969, -1.2373353 ],\n",
      "       [ 0.526575  , -0.93473996],\n",
      "       [ 0.5822603 , -0.63214461]]), array([[-0.70750102, -2.58374463],\n",
      "       [-0.74825669, -2.26485606]])]\n"
     ]
    }
   ],
   "source": [
    "from tensorly.decomposition import parafac\n",
    "factors = parafac(tensor, rank=2)\n",
    "\n",
    "print(tl.kruskal_to_tensor(factors))\n",
    "\n",
    "np.int64()\n",
    "for mode in range(tensor.ndim):\n",
    "    print('* mode-{} unfolding:\\n{}'.format(mode, np.round(tl.kruskal_to_unfolded(factors, mode),1)))\n",
    "for f in factors:\n",
    "    print(f)"
   ]
  },
  {
   "cell_type": "code",
   "execution_count": 28,
   "metadata": {},
   "outputs": [],
   "source": [
    "for mode in range(tensor.ndim):\n",
    "    unfolding = tl.unfold(tensor, mode)\n",
    "    folded = tl.fold(unfolding, mode, tensor.shape)\n",
    "    assert_array_equal(folded, tensor)"
   ]
  }
 ],
 "metadata": {
  "kernelspec": {
   "display_name": "ml",
   "language": "python",
   "name": "ml"
  },
  "language_info": {
   "codemirror_mode": {
    "name": "ipython",
    "version": 3
   },
   "file_extension": ".py",
   "mimetype": "text/x-python",
   "name": "python",
   "nbconvert_exporter": "python",
   "pygments_lexer": "ipython3",
   "version": "3.7.7"
  }
 },
 "nbformat": 4,
 "nbformat_minor": 4
}
