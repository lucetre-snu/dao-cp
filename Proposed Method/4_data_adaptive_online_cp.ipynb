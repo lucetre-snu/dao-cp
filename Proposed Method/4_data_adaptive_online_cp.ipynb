{
 "cells": [
  {
   "cell_type": "code",
   "execution_count": 1,
   "metadata": {},
   "outputs": [],
   "source": [
    "import sys\n",
    "import time\n",
    "import numpy as np\n",
    "import tensorly as tl\n",
    "import pandas as pd\n",
    "import seaborn as sns\n",
    "import matplotlib.pyplot as plt\n",
    "from matplotlib.gridspec import GridSpec\n",
    "from brokenaxes import brokenaxes\n",
    "from tensorly.decomposition import parafac\n",
    "from tensorly.decomposition.candecomp_parafac import initialize_factors, unfolding_dot_khatri_rao, KruskalTensor"
   ]
  },
  {
   "cell_type": "code",
   "execution_count": null,
   "metadata": {},
   "outputs": [],
   "source": [
    "# for sample video\n",
    "from cv2 import VideoWriter, VideoWriter_fourcc, imshow\n",
    "\n",
    "def make_video(tensor, filename, isColor=True):\n",
    "    start = time.time()\n",
    "    height = tensor.shape[1]\n",
    "    width = tensor.shape[2]\n",
    "    FPS = 24\n",
    "\n",
    "    fourcc = VideoWriter_fourcc(*'MP42')\n",
    "    video = VideoWriter(filename, fourcc, float(FPS), (width, height), isColor)\n",
    "\n",
    "    for frame in tensor:\n",
    "        video.write(np.uint8(frame))\n",
    "    video.release()\n",
    "    print('created', filename, time.time()-start)"
   ]
  },
  {
   "cell_type": "code",
   "execution_count": 3,
   "metadata": {},
   "outputs": [],
   "source": [
    "import math\n",
    "class Welford(object):\n",
    "    def __init__(self,lst=None):\n",
    "        self.k = 0\n",
    "        self.M = 0\n",
    "        self.S = 0\n",
    "        \n",
    "        self.__call__(lst)\n",
    "    \n",
    "    def update(self,x):\n",
    "        if x is None:\n",
    "            return\n",
    "        self.k += 1\n",
    "        newM = self.M + (x - self.M)*1./self.k\n",
    "        newS = self.S + (x - self.M)*(x - newM)\n",
    "        self.M, self.S = newM, newS\n",
    "\n",
    "    def consume(self,lst):\n",
    "        lst = iter(lst)\n",
    "        for x in lst:\n",
    "            self.update(x)\n",
    "    \n",
    "    def __call__(self,x):\n",
    "        if hasattr(x,\"__iter__\"):\n",
    "            self.consume(x)\n",
    "        else:\n",
    "            self.update(x)\n",
    "            \n",
    "    @property\n",
    "    def mean(self):\n",
    "        return self.M\n",
    "    @property\n",
    "    def meanfull(self):\n",
    "        return self.mean, self.std/math.sqrt(self.k)\n",
    "    @property\n",
    "    def std(self):\n",
    "        if self.k==1:\n",
    "            return 0\n",
    "        return math.sqrt(self.S/(self.k-1))\n",
    "    def __repr__(self):\n",
    "        return \"<Welford: {} +- {}>\".format(self.mean, self.std)"
   ]
  },
  {
   "cell_type": "code",
   "execution_count": 4,
   "metadata": {},
   "outputs": [],
   "source": [
    "def construct_tensor(factors):\n",
    "    weights = tl.ones(factors[0].shape[1])\n",
    "    est_tensor = tl.kruskal_to_tensor((weights, factors))\n",
    "    return est_tensor\n",
    "    \n",
    "def print_tensor(X, n_digit=1):\n",
    "    print(np.round(X, n_digit))\n",
    "    \n",
    "def compare_tensors(A, B):\n",
    "    error_norm = tl.norm(A - B)\n",
    "    print('||A-B||:', error_norm)\n",
    "    return error_norm\n",
    "    \n",
    "def create_tensor_stream(X, start_to_stream, batch_sizes):\n",
    "    total_batch_size = np.sum(batch_sizes)\n",
    "    if X.shape[0] != start_to_stream + total_batch_size:\n",
    "        raise ValueError('Total batch size should be the size of streaming part of the tensor.')\n",
    "    \n",
    "    X_stream = [X[:start_to_stream]]\n",
    "    batch_start = start_to_stream\n",
    "    for batch_size in batch_sizes:\n",
    "        batch_end = batch_start + batch_size\n",
    "        X_stream.append(X[batch_start:batch_end])\n",
    "        batch_start = batch_end\n",
    "    return np.asarray(X_stream)\n",
    "    \n",
    "def get_KhatriRao(factors):\n",
    "    n_dim = len(factors)\n",
    "    lefts = [factors[n_dim-1]]\n",
    "    rights = [factors[0]]\n",
    "    if n_dim > 2:\n",
    "        for mode in range(1, n_dim-1):\n",
    "            lefts.append(tl.tenalg.khatri_rao((lefts[mode-1], factors[n_dim-mode-1])))\n",
    "            rights.append(tl.tenalg.khatri_rao((factors[mode], rights[mode-1])))\n",
    "            \n",
    "    K = lefts.copy()\n",
    "    K[0] = lefts[n_dim-2]\n",
    "    K.append(rights[n_dim-2].copy())\n",
    "    if n_dim > 2:\n",
    "        for mode in range(1, n_dim-1):\n",
    "            K[mode] = tl.tenalg.khatri_rao((lefts[n_dim-mode-2], rights[mode-1]))\n",
    "    return K\n",
    "\n",
    "def get_KhatriRao_except0(factors):\n",
    "    n_dim = len(factors)\n",
    "    lefts = np.empty((n_dim), dtype=object)\n",
    "    rights = np.empty((n_dim), dtype=object)\n",
    "    K = np.empty((n_dim), dtype=object)\n",
    "    \n",
    "    lefts[1] = factors[n_dim-1]\n",
    "    rights[1] = factors[1]\n",
    "    if n_dim > 3:\n",
    "        for mode in range(2, n_dim-1):\n",
    "            lefts[mode] = tl.tenalg.khatri_rao((factors[n_dim-mode], lefts[mode-1]))\n",
    "            rights[mode] = tl.tenalg.khatri_rao((rights[mode-1], factors[mode]))\n",
    "            \n",
    "    K[1] = lefts[n_dim-2]\n",
    "    K[n_dim-1] = rights[n_dim-2]\n",
    "    if n_dim > 3: \n",
    "        for mode in range(2, n_dim-1):\n",
    "            K[mode] = tl.tenalg.khatri_rao((rights[mode-1], lefts[n_dim-mode-1]))\n",
    "    return K\n",
    "    \n",
    "def get_Hadamard(factors):\n",
    "    rank = factors[0].shape[1]\n",
    "    H = tl.tensor(np.ones((rank, rank)))\n",
    "    for factor in factors:\n",
    "        H = H * tl.dot(tl.transpose(factor), factor)\n",
    "    return H"
   ]
  },
  {
   "cell_type": "markdown",
   "metadata": {},
   "source": [
    "### Online CP"
   ]
  },
  {
   "cell_type": "code",
   "execution_count": 5,
   "metadata": {},
   "outputs": [],
   "source": [
    "def online_cp(factors_old, X_old, X_new, rank, P, Q, n_iter=1, mu=1, verbose=False, transformed=False):\n",
    "    weights = tl.ones(rank)\n",
    "    if verbose:\n",
    "        X = tl.tensor(np.concatenate((X_old, X_new)))\n",
    "    n_dim = tl.ndim(X_old)\n",
    "    U = factors_old.copy()\n",
    "    \n",
    "    if not transformed:\n",
    "        K = get_KhatriRao_except0(factors_old)\n",
    "    H = get_Hadamard(factors_old[1:])\n",
    "        \n",
    "    for i in range(n_iter):\n",
    "        # temporal mode for A1\n",
    "        if not transformed:\n",
    "            mttkrp = tl.dot(tl.unfold(X_new, 0), tl.tenalg.khatri_rao((U[1], K[1])))\n",
    "        else:\n",
    "            # for higher accracy, lower speed\n",
    "            mttkrp_parts = []\n",
    "            for r in range(rank):\n",
    "                component = tl.tenalg.multi_mode_dot(X_new, [f[:, r] for f in U], skip=0)\n",
    "                mttkrp_parts.append(component)\n",
    "            mttkrp = np.stack(mttkrp_parts, axis=1)\n",
    "        \n",
    "        A1 = tl.transpose(tl.solve(tl.transpose(H), tl.transpose(mttkrp)))\n",
    "\n",
    "        # non-temporal mode\n",
    "        for mode in range(1, n_dim):\n",
    "            \n",
    "            if not transformed:\n",
    "                dP = tl.dot(tl.unfold(X_new, mode), tl.tenalg.khatri_rao((A1, K[mode])))\n",
    "                UTU  = tl.dot(tl.transpose(U[mode]), U[mode])\n",
    "                dQ = tl.dot(tl.transpose(A1), A1) * H / UTU\n",
    "                \n",
    "                U[mode] = tl.transpose(tl.solve(tl.transpose(mu*Q[mode] + dQ), tl.transpose(mu*P[mode] + dP)))\n",
    "                P[mode] = P[mode] + dP\n",
    "                Q[mode] = Q[mode] + dQ\n",
    "            else:\n",
    "                U1 = U.copy()\n",
    "                U1[0] = A1\n",
    "                \n",
    "                H_mode  = H / tl.dot(tl.transpose(U[mode]), U[mode])\n",
    "                V = (mu * tl.dot(tl.transpose(U[0]), U[0]) + tl.dot(tl.transpose(A1), A1)) * H_mode\n",
    "                \n",
    "                mttkrp0 = unfolding_dot_khatri_rao(X_old, (None, U), mode)\n",
    "                mttkrp1 = unfolding_dot_khatri_rao(X_new, (None, U1), mode)\n",
    "                \n",
    "                U[mode] = tl.transpose(tl.solve(tl.transpose(V), tl.transpose(mu*mttkrp0 + mttkrp1)))\n",
    "                H = H_mode * tl.dot(tl.transpose(U[mode]), U[mode])\n",
    "                \n",
    "        # temporal mode for A0\n",
    "        if transformed:\n",
    "            mttkrp = unfolding_dot_khatri_rao(X_old, (None, U), 0)\n",
    "            U[0] = tl.transpose(tl.solve(tl.transpose(H), tl.transpose(mttkrp)))\n",
    "            \n",
    "        if verbose:\n",
    "            U1 = U.copy()\n",
    "            U1[0] = np.concatenate((U[0], A1))\n",
    "            X_est = construct_tensor(U1)\n",
    "            compare_tensors(X, X_est)\n",
    "\n",
    "    U[0] = np.concatenate((U[0], A1))\n",
    "    return (KruskalTensor((weights, U)), P, Q)"
   ]
  },
  {
   "cell_type": "markdown",
   "metadata": {},
   "source": [
    "### DTD"
   ]
  },
  {
   "cell_type": "code",
   "execution_count": 6,
   "metadata": {},
   "outputs": [],
   "source": [
    "def dtd(factors_old, X_old, X_new, rank, n_iter=1, mu=1, verbose=False):\n",
    "    \n",
    "    weights = tl.ones(rank)\n",
    "    if verbose:\n",
    "        X = tl.tensor(np.concatenate((X_old, X_new)))\n",
    "    n_dim = tl.ndim(X_old)\n",
    "    U = factors_old.copy()\n",
    "    \n",
    "    for i in range(n_iter):\n",
    "        # temporal mode for A1\n",
    "        V = tl.tensor(np.ones((rank, rank)))\n",
    "        for j, factor in enumerate(U):\n",
    "            if j != 0:\n",
    "                V = V * tl.dot(tl.transpose(factor), factor)\n",
    "        mttkrp = unfolding_dot_khatri_rao(X_new, (None, U), 0)\n",
    "        A1 = tl.transpose(tl.solve(tl.transpose(V), tl.transpose(mttkrp)))\n",
    "\n",
    "        # non-temporal mode\n",
    "        for mode in range(1, n_dim):\n",
    "            U1 = U.copy()\n",
    "            U1[0] = A1\n",
    "            V = tl.tensor(np.ones((rank, rank)))\n",
    "            W = tl.tensor(np.ones((rank, rank)))\n",
    "            for j, factor in enumerate(U):\n",
    "                factor_old = factors_old[j]\n",
    "                if j != mode:\n",
    "                    W = W * tl.dot(tl.transpose(factor_old), factor)\n",
    "                    if j == 0:\n",
    "                        V = V * (mu*tl.dot(tl.transpose(factor), factor) + tl.dot(tl.transpose(A1), A1))\n",
    "                    else:\n",
    "                        V = V * tl.dot(tl.transpose(factor), factor)\n",
    "            mttkrp0 = mu * tl.dot(factors_old[mode], W)\n",
    "            mttkrp1 = unfolding_dot_khatri_rao(X_new, (None, U1), mode)\n",
    "            U[mode] = tl.transpose(tl.solve(tl.transpose(V), tl.transpose(mttkrp0 + mttkrp1)))\n",
    "\n",
    "        # temporal mode for A0\n",
    "        V = tl.tensor(np.ones((rank, rank)))\n",
    "        W = tl.tensor(np.ones((rank, rank)))\n",
    "        for j, factor in enumerate(U):\n",
    "            factor_old = factors_old[j]\n",
    "            if j != 0:\n",
    "                V = V * tl.dot(tl.transpose(factor), factor)\n",
    "                W = W * tl.dot(tl.transpose(factor_old), factor)\n",
    "        mttkrp = tl.dot(factors_old[0], W)\n",
    "        U[0] = tl.transpose(tl.solve(tl.transpose(V), tl.transpose(mttkrp)))\n",
    "        if verbose:\n",
    "            U1 = U.copy()\n",
    "            U1[0] = np.concatenate((U[0], A1))\n",
    "            X_est = construct_tensor(U1)\n",
    "            compare_tensors(X, X_est)\n",
    "\n",
    "    U[0] = np.concatenate((U[0].copy(), A1))\n",
    "    return KruskalTensor((weights, U))"
   ]
  },
  {
   "cell_type": "markdown",
   "metadata": {},
   "source": [
    "### Adaptive"
   ]
  },
  {
   "cell_type": "code",
   "execution_count": 7,
   "metadata": {},
   "outputs": [],
   "source": [
    "def adaptive_online_cp(factors_old, X_old, X_new, rank, n_iter=1, mu=1, verbose=False):\n",
    "    \n",
    "    weights = tl.ones(rank)\n",
    "    if verbose:\n",
    "        X = tl.tensor(np.concatenate((X_old, X_new)))\n",
    "    n_dim = tl.ndim(X_old)\n",
    "    U = factors_old.copy()\n",
    "    \n",
    "    H = get_Hadamard(U[1:])\n",
    "    G = H\n",
    "    \n",
    "    ATA0 = tl.dot(tl.transpose(U[0]), U[0])\n",
    "    ATA1 = tl.dot(tl.transpose(U[1]), U[1])\n",
    "    \n",
    "    for i in range(n_iter):        \n",
    "        # temporal mode for A1\n",
    "        mttkrp_parts = []\n",
    "        for r in range(rank):\n",
    "            component = tl.tenalg.multi_mode_dot(X_new, [f[:, r] for f in U], skip=0)\n",
    "            mttkrp_parts.append(component)\n",
    "        mttkrp = np.stack(mttkrp_parts, axis=1)\n",
    "        \n",
    "        A1 = tl.transpose(tl.solve(tl.transpose(H), tl.transpose(mttkrp)))\n",
    "        ATA1 = tl.dot(tl.transpose(A1), A1)\n",
    "        \n",
    "        \n",
    "        # non-temporal mode\n",
    "        for mode in range(1, n_dim):\n",
    "            \n",
    "            U1 = U.copy()\n",
    "            U1[0] = A1\n",
    "                    \n",
    "            G = G / tl.dot(tl.transpose(factors_old[mode]), U[mode])\n",
    "            W = G * tl.dot(tl.transpose(factors_old[0]), U[0])\n",
    "            mttkrp0 = mu * tl.dot(factors_old[mode], W)\n",
    "            mttkrp1 = unfolding_dot_khatri_rao(X_new, (None, U1), mode)\n",
    "            \n",
    "            H = H / tl.dot(tl.transpose(U[mode]), U[mode])\n",
    "            V = H * (mu * ATA0 + ATA1)\n",
    "            U[mode] = tl.transpose(tl.solve(tl.transpose(V), tl.transpose(mttkrp0 + mttkrp1)))\n",
    "            G = G * tl.dot(tl.transpose(factors_old[mode]), U[mode])\n",
    "            H = H * tl.dot(tl.transpose(U[mode]), U[mode])\n",
    "            \n",
    "\n",
    "        # temporal mode for A0        \n",
    "        mttkrp = tl.dot(factors_old[0], G)\n",
    "        U[0] = tl.transpose(tl.solve(tl.transpose(H), tl.transpose(mttkrp)))\n",
    "        ATA0 = tl.dot(tl.transpose(U[0]), U[0])\n",
    "\n",
    "        if verbose:\n",
    "            U1 = U.copy()\n",
    "            U1[0] = np.concatenate((U[0], A1))\n",
    "            X_est = construct_tensor(U1)\n",
    "            compare_tensors(X, X_est)\n",
    "\n",
    "    U[0] = np.concatenate((U[0].copy(), A1))\n",
    "    return KruskalTensor((weights, U))"
   ]
  },
  {
   "cell_type": "markdown",
   "metadata": {},
   "source": [
    "## Online Tensor Decomposition\n",
    "* `adaptive_onlinecp`, `dtd`"
   ]
  },
  {
   "cell_type": "code",
   "execution_count": 8,
   "metadata": {
    "scrolled": true
   },
   "outputs": [],
   "source": [
    "from warnings import warn\n",
    "\n",
    "def get_z_score(x, mean, std):\n",
    "    if std == 0:\n",
    "        return 0\n",
    "    return (x - mean) / std\n",
    "\n",
    "def online_tensor_decomposition(dataset, X, X_stream, rank, n_iter=1, ul=-1, ll=-1, verbose=False, methods=['dao', 'dtd', 'ocp', 'fcp']):\n",
    "    results = {}\n",
    "    start = time.time()\n",
    "    (weights, factors_old) = parafac(X_stream[0], rank, init='random')\n",
    "    print('-----------------------------------')\n",
    "    init_time = time.time()-start\n",
    "    print('making init decomposition result:', init_time)\n",
    "    \n",
    "    for method in methods:\n",
    "\n",
    "        print('\\n >> {} rank-{} n_iter-{}'.format(method, rank, n_iter))\n",
    "        \n",
    "        factors = factors_old\n",
    "        X_old = X_stream[0]\n",
    "        n_dim = tl.ndim(X_old)\n",
    "        if not method in ['dao', 'dtd', 'ocp', 'fcp']:\n",
    "            raise ValueError('The method does not exist.')  \n",
    "        if method == 'fcp':\n",
    "            (weights, factors) = parafac(X, rank, init='random')\n",
    "            X_est = construct_tensor(factors)\n",
    "            err_norm = tl.norm(X - X_est)\n",
    "            global_rt = time.time()-start\n",
    "            global_fit = 1 - (err_norm/tl.norm(X))\n",
    "            print('global fitness', global_fit)\n",
    "            print('global running time', global_rt)\n",
    "            results[method] = [global_fit, 0, global_rt, 0]\n",
    "            continue\n",
    "\n",
    "        ktensors = []\n",
    "        verbose_list = []\n",
    "        split_points = []\n",
    "        refine_points = []\n",
    "        fitness = []\n",
    "        running_time = []\n",
    "        begin = time.time() - init_time\n",
    "\n",
    "        welford = Welford()\n",
    "        X_est = construct_tensor(factors)\n",
    "        err_norm = tl.norm(X_old - X_est)\n",
    "        welford(err_norm * 1.2)\n",
    "\n",
    "\n",
    "        if method == 'ocp':\n",
    "            start = time.time()\n",
    "            K = get_KhatriRao_except0(factors)\n",
    "            H = get_Hadamard(factors)\n",
    "\n",
    "            P = np.empty((n_dim), dtype=object)\n",
    "            Q = np.empty((n_dim), dtype=object)\n",
    "\n",
    "            for mode in range(1, n_dim):\n",
    "                P[mode] = tl.dot(tl.unfold(X_old, mode), tl.tenalg.khatri_rao((factors[0], K[mode])))\n",
    "                Q[mode] = H / tl.dot(tl.transpose(factors[mode]), factors[mode])\n",
    "            #print('init_time:', time.time()-start)\n",
    "\n",
    "        \n",
    "        for i, X_new in enumerate(X_stream[1:]):\n",
    "\n",
    "            start = time.time()\n",
    "            if method == 'dao':\n",
    "                (weights, factors0) = adaptive_online_cp(factors.copy(), X_old, X_new, rank, n_iter=n_iter, mu=0.8, verbose=False)\n",
    "            elif method == 'ocp':\n",
    "                ((weights, factors0), P0, Q0) = online_cp(factors.copy(), X_old, X_new, rank, P, Q, verbose=False)\n",
    "            elif method == 'dtd':\n",
    "                (weights, factors0) = dtd(factors.copy(), X_old, X_new, rank, verbose=False)\n",
    "\n",
    "            U = factors0.copy()\n",
    "            U[0] = U[0][-X_new.shape[0]-1:-1]\n",
    "            dX_est = construct_tensor(U)\n",
    "\n",
    "            err_norm = tl.norm(X_new - dX_est)\n",
    "            z_score = get_z_score(err_norm, welford.mean, welford.std)\n",
    "\n",
    "            if method == 'dao' and ul > 0 and z_score > ul:\n",
    "                weights = tl.ones(rank)\n",
    "                ktensors.append(KruskalTensor((weights, factors.copy())))\n",
    "                #print('=== SPLIT({}, {}) ==='.format(z_score, err_norm))\n",
    "                split_points.append(i+1)\n",
    "\n",
    "                X_old = X_stream[i+1]\n",
    "\n",
    "                (weights, factors0) = parafac(X_old, rank, init='random')\n",
    "                elapsed_time = time.time()-start\n",
    "                #print('making init decomposition result:', time.time()-start)\n",
    "                verbose_list.append([i+1, elapsed_time, err_norm, z_score])\n",
    "\n",
    "                start = time.time()\n",
    "                X_est = construct_tensor(factors0)\n",
    "                err_norm = tl.norm(X_old - X_est)\n",
    "                welford = Welford()\n",
    "                welford(err_norm * 1.2)\n",
    "\n",
    "                z_score = get_z_score(err_norm, welford.mean, welford.std)\n",
    "                factors = factors0.copy()\n",
    "                welford(err_norm)\n",
    "                elapsed_time = time.time()-start\n",
    "                #print('{}th_iter:'.format(i+1), elapsed_time, err_norm, z_score)\n",
    "                verbose_list.append([i+1, elapsed_time, err_norm, z_score])\n",
    "                fitness.append(err_norm/tl.norm(X_new))\n",
    "                running_time.append(elapsed_time)\n",
    "                continue\n",
    "            elif method == 'dao' and ll > 0 and z_score > ll:\n",
    "                #print('=== REFINE({}, {}) ==='.format(z_score, err_norm))\n",
    "                refine_points.append(i+1)\n",
    "                elapsed_time = time.time()-start\n",
    "                verbose_list.append([i+1, elapsed_time, err_norm, z_score])\n",
    "\n",
    "                (weights, factors) = adaptive_online_cp(factors, X_old, X_new, rank, n_iter=n_iter*2, mu=0.1, verbose=False)\n",
    "                \n",
    "                U = factors.copy()\n",
    "                U[0] = U[0][-X_new.shape[0]-1:-1]\n",
    "                dX_est = construct_tensor(U)\n",
    "                err_norm = tl.norm(X_new - dX_est)\n",
    "                welford(err_norm)\n",
    "            else:\n",
    "                if method == 'ocp':\n",
    "                    P = P0\n",
    "                    Q = Q0\n",
    "                factors = factors0.copy()\n",
    "                welford(err_norm)\n",
    "            \n",
    "            elapsed_time = time.time()-start\n",
    "            #print('{}th_iter:'.format(i+1), elapsed_time, err_norm, z_score)\n",
    "            verbose_list.append([i+1, elapsed_time, err_norm, z_score])\n",
    "            fitness.append(err_norm/tl.norm(X_new))\n",
    "            running_time.append(elapsed_time)\n",
    "            X_old = tl.concatenate((X_old, X_new))\n",
    "\n",
    "            if verbose:\n",
    "                X_est = construct_tensor(factors)\n",
    "                compare_tensors(X_old, X_est)\n",
    "\n",
    "        weights = tl.ones(rank)\n",
    "        ktensors.append(KruskalTensor((weights, factors)))\n",
    "        \n",
    "#     return (ktensors, np.asarray(verbose_list))\n",
    "        global_rt = time.time() - begin\n",
    "\n",
    "        tensor_est = construct_tensor(ktensors[0][1])\n",
    "        for (weights, factors) in ktensors[1:]:\n",
    "            tensor_est = tl.tensor(tl.concatenate((tensor_est, construct_tensor(factors))))\n",
    "        global_error_norm = compare_tensors(X, tensor_est)\n",
    "#        print('Elapsed Time:', time.time() - begin)\n",
    "#         print_tensor(np.asarray((X, tensor_est))[:,0,0,0,:10])\n",
    "        if method == 'dao':\n",
    "            print('split:', len(split_points), 'refine:', len(refine_points))\n",
    "            \n",
    "        if method != 'fcp':\n",
    "            verbose_list = np.asarray(verbose_list, dtype=float)\n",
    "            fitness = np.asarray(fitness, dtype=float)\n",
    "            running_time = np.asarray(running_time, dtype=float)\n",
    "\n",
    "            tot_norm = tl.norm(X)\n",
    "            local_fit = 1 - np.mean(fitness)\n",
    "            local_rt = np.mean(running_time)\n",
    "            global_fit = 1 - (global_error_norm / tot_norm)\n",
    "            print('global fitness', global_fit)\n",
    "            print('local fitness', local_fit)\n",
    "            print('global running time', global_rt)\n",
    "            print('local running time', local_rt)\n",
    "            results[method] = [global_fit, local_fit, global_rt, local_rt]\n",
    "            \n",
    "        \n",
    "        '''\n",
    "        color = 'tab:red'\n",
    "        fig, ax1 = plt.subplots()\n",
    "        \n",
    "        fig.suptitle(f'Speed & Accuracy of {method} method', fontsize=16)\n",
    "#         fig.text(60, .025, )\n",
    "        txt = f'global error norm = {int(global_error_norm)}\\ntotal elapsed time = {round(time.time() - begin, 2)}s'\n",
    "        fig.text(0.01, 0.01, txt, visible = True, fontsize=9)\n",
    "    \n",
    "        txt = f'{len(split_points)} splits, {len(refine_points)} refinements'\n",
    "        fig.text(0.88, 0.88, txt, visible = True, fontsize=10, ha='right')\n",
    "    \n",
    "#         plt.xticks(rotation=45)\n",
    "        ax1.set_ylabel('local error norm for a data slice', color=color, fontsize=12)\n",
    "        ax1.set_xlabel('iteration')\n",
    "#         ax1.xaxis.set_label_position('top')\n",
    "        ax1.plot(verbose_list[:,0], verbose_list[:,2], linewidth=1, marker=\"2\", color=color)\n",
    "\n",
    "        for p in refine_points:\n",
    "            ax1.axvline(p,  label='line: {}'.format(p), c='yellowgreen', linewidth=2)\n",
    "        for p in split_points:\n",
    "            ax1.axvline(p,  label='line: {}'.format(p), c='yellow', linewidth=2)\n",
    "\n",
    "        color = 'tab:blue'\n",
    "        ax2 = ax1.twinx()\n",
    "        ax2.set_ylabel('local running time (s)', color=color,  rotation=270, fontsize=12, labelpad=15)\n",
    "        ax2.plot(verbose_list[:,0], verbose_list[:,1], linewidth=0.5, marker=\"2\", color=color)\n",
    "        fig.tight_layout()\n",
    "        \n",
    "        plt.savefig('results/{}-{}.pdf'.format(dataset, method) , dpi=500)\n",
    "'''\n",
    "    return results"
   ]
  },
  {
   "cell_type": "code",
   "execution_count": 9,
   "metadata": {},
   "outputs": [],
   "source": [
    "results = {}"
   ]
  },
  {
   "cell_type": "markdown",
   "metadata": {},
   "source": [
    "### Plot Results"
   ]
  },
  {
   "cell_type": "code",
   "execution_count": 10,
   "metadata": {},
   "outputs": [],
   "source": [
    "def plot(datasets, name):\n",
    "\n",
    "    def plotLocal(min_val=1, max_val=1e4):\n",
    "        points  = []\n",
    "        for dataset in datasets:\n",
    "            if dataset in results:\n",
    "                for lib in libs:\n",
    "                    if lib in results[dataset]:\n",
    "                        point = [lib, dataset, [results[dataset][lib][3]], [results[dataset][lib][1]]]\n",
    "                        points.append(point)\n",
    "\n",
    "\n",
    "#         print(points)\n",
    "\n",
    "        if max_val > 1e+3: ### For brokenaxes\n",
    "            bax = brokenaxes(xlims=((min_val, 2e4),(20000, 2e5)), d = 0,\n",
    "                             wspace=0.05,  xscale='log',)\n",
    "            for point in points :\n",
    "                lib, data, x, y = point\n",
    "                if len(x) != 0:\n",
    "                    if x[0] < 1e+3 + 5000:\n",
    "                        bax.plot(x, y, label=lib, \n",
    "                                 c= dct[lib],  marker=dct1[data],\n",
    "                                    mfc='none', ms = 10, mew = 1.8)\n",
    "                    else:\n",
    "                        x = 50000 \n",
    "                        bax.plot(x, y, label=lib, \n",
    "                                 c= dct[lib],  marker=dct1[data], \n",
    "                                mfc='none', ms = 10, mew = 1.8)\n",
    "        else:  \n",
    "            bax = brokenaxes(xscale='log')\n",
    "#             bax = brokenaxes(xscale='log', subplot_spec=sps1)\n",
    "            for point in points :\n",
    "                lib, data, x, y = point\n",
    "                if len(x) != 0:\n",
    "                    if x[0] != 0 and y[0] != 0:\n",
    "                        bax.plot(x, y, label=lib,\n",
    "                                 c= dct[lib],  marker=dct1[data],\n",
    "                                mfc='none', ms = 10, mew = 1.8)\n",
    "#         bax.set_ylim([0.97,0.99])\n",
    "#         bax.set_yscale('log') \n",
    "#         bax.set_xscale('log')\n",
    "\n",
    "\n",
    "#         bax.tick_params(axis = 'y', labelsize =8)\n",
    "        bax.set_ylabel('Average of Local Fitness', size = 10, labelpad=50)\n",
    "        bax.set_xlabel('Average of Local Running Time (s)', size = 10, labelpad=25)  ### Labelpad > space btw xaxis and xlabel\n",
    "        plt.subplots_adjust(hspace=0.1, bottom = 0.4 , left = 0.23, top = 0.9) ### Plot to remove whitespace of plot \n",
    "#         plt.show()\n",
    "        plt.savefig(f'./{name}_local.pdf',bbox_inches = 'tight', pad_inches = 0)\n",
    "\n",
    "    def plotGlobal(min_val=1, max_val=1e4):\n",
    "        points  = []\n",
    "        for dataset in datasets:\n",
    "            if dataset in results:\n",
    "                for lib in libs:\n",
    "                    if lib in results[dataset]:\n",
    "                        point = [lib, dataset, [results[dataset][lib][2]], [results[dataset][lib][0]]]\n",
    "                        points.append(point)\n",
    "\n",
    "\n",
    "#         print(points)\n",
    "\n",
    "        if max_val > 1e+3: ### For brokenaxes\n",
    "            bax = brokenaxes(xlims=((min_val, 2e4),(20000, 2e5)), d = 0,\n",
    "                             wspace=0.05,  xscale='log',)\n",
    "            for point in points :\n",
    "                lib, data, x, y = point\n",
    "                if len(x) != 0:\n",
    "                    if x[0] < 1e+3 + 5000:\n",
    "                        bax.plot(x, y, label=lib, \n",
    "                                 c= dct[lib],  marker=dct1[data],\n",
    "                                    mfc='none', ms = 10, mew = 1.8)\n",
    "                    else:\n",
    "                        x = 50000 \n",
    "                        bax.plot(x, y, label=lib, \n",
    "                                 c= dct[lib],  marker=dct1[data], \n",
    "                                mfc='none', ms = 10, mew = 1.8)\n",
    "        else:  \n",
    "            bax = brokenaxes(xscale='log')\n",
    "#             bax = brokenaxes(xscale='log', subplot_spec=sps2)\n",
    "            for point in points :\n",
    "                lib, data, x, y = point\n",
    "                if len(x) != 0:\n",
    "                    if x[0] != 0 and y[0] != 0:\n",
    "                        bax.plot(x, y, label=lib,\n",
    "                                 c= dct[lib],  marker=dct1[data],\n",
    "                                mfc='none', ms = 10, mew = 1.8)\n",
    "\n",
    "#         bax.set_ylim([0.97,0.99])\n",
    "#         bax.set_xscale('log') \n",
    "        bax.set_ylabel('Global Fitness', size = 10, labelpad=50)\n",
    "        bax.set_xlabel('Global Running Time (s)', size = 10, labelpad=25)  ### Labelpad > space btw xaxis and xlabel\n",
    "        plt.subplots_adjust(hspace=0.1, bottom = 0.4 , left = 0.23, top = 0.9) ### Plot to remove whitespace of plot \n",
    "#         plt.show()\n",
    "        plt.savefig(f'./{name}_global.pdf',bbox_inches = 'tight', pad_inches = 0)\n",
    "\n",
    "    markers = (\"o\", \"x\", \"s\", \"^\", \"4\")\n",
    "    colors = ('dodgerblue','mediumseagreen', 'hotpink', '#fba84a')\n",
    "\n",
    "    libs = (\"dao\", \"ocp\", \"dtd\", \"fcp\")\n",
    "    f = lambda m,c: plt.plot([],[], color=c, marker = m,\n",
    "                             mfc='none', ms = 10, mew = 1.8,\n",
    "                                ls=\"none\")[0]\n",
    "    f2 = lambda c: plt.plot([],[],marker='.', color=c, )[0]\n",
    "\n",
    "    dct = {}\n",
    "    dct1 = {}\n",
    "\n",
    "    for color, lib in zip(colors, libs):\n",
    "        dct[lib] = color\n",
    "\n",
    "    for data, marker in zip(datasets, markers):\n",
    "        dct1[data] = marker\n",
    "    \n",
    "    fig = plt.figure(figsize = (4, 4), dpi = 150,)   ### figsize = (row, col), dpi > resolution(?)\n",
    "#     sps1, sps2 = GridSpec(1,2)\n",
    "    plotLocal(max_val=100)\n",
    "    fig = plt.figure(figsize = (4, 4), dpi = 150,)   ### figsize = (row, col), dpi > resolution(?)\n",
    "    plotGlobal(max_val=100)"
   ]
  },
  {
   "cell_type": "markdown",
   "metadata": {},
   "source": [
    "---\n",
    "### Single tensor example"
   ]
  },
  {
   "cell_type": "code",
   "execution_count": 11,
   "metadata": {},
   "outputs": [
    {
     "name": "stdout",
     "output_type": "stream",
     "text": [
      "(10, 2, 2)\n"
     ]
    }
   ],
   "source": [
    "x = tl.tensor(np.arange(20, dtype='f').reshape((5, 2, 2)))\n",
    "y = tl.tensor(np.arange(20, dtype='f').reshape((5, 2, 2)))\n",
    "single_tensor = tl.concatenate((x, y))\n",
    "print(single_tensor.shape)\n",
    "n_dim = tl.ndim(single_tensor)"
   ]
  },
  {
   "cell_type": "code",
   "execution_count": 12,
   "metadata": {
    "scrolled": true
   },
   "outputs": [
    {
     "name": "stderr",
     "output_type": "stream",
     "text": [
      "/home/lucetre/.local/lib/python3.8/site-packages/numpy/core/_asarray.py:83: VisibleDeprecationWarning: Creating an ndarray from ragged nested sequences (which is a list-or-tuple of lists-or-tuples-or ndarrays with different lengths or shapes) is deprecated. If you meant to do this, you must specify 'dtype=object' when creating the ndarray\n",
      "  return array(a, dtype, copy=False, order=order)\n"
     ]
    },
    {
     "name": "stdout",
     "output_type": "stream",
     "text": [
      "-----------------------------------\n",
      "making init decomposition result: 0.06407713890075684\n",
      "\n",
      " >> dao rank-3 n_iter-4\n",
      "||A-B||: 0.027359048757517972\n",
      "split: 5 refine: 0\n",
      "global fitness 0.9996107420239686\n",
      "local fitness 0.8823054615801416\n",
      "global running time 0.1346588134765625\n",
      "local running time 0.0018046796321868896\n",
      "\n",
      " >> dtd rank-3 n_iter-4\n",
      "||A-B||: 0.05202691627980038\n",
      "global fitness 0.9992597735283225\n",
      "local fitness -0.39352175319753346\n",
      "global running time 0.010640382766723633\n",
      "local running time 0.0012760758399963379\n",
      "\n",
      " >> ocp rank-3 n_iter-4\n",
      "||A-B||: 0.04487404162359836\n",
      "global fitness 0.9993615429113211\n",
      "local fitness -0.3935223457734831\n",
      "global running time 0.007028102874755859\n",
      "local running time 0.0006222426891326904\n",
      "\n",
      " >> fcp rank-3 n_iter-4\n",
      "global fitness 0.9998256373547738\n",
      "global running time 0.0308380126953125\n"
     ]
    }
   ],
   "source": [
    "tensor_stream = create_tensor_stream(single_tensor, start_to_stream=2, batch_sizes=np.full((8), 1, dtype=int))\n",
    "results['single'] = online_tensor_decomposition('single', single_tensor, tensor_stream, rank=3, n_iter=4, ul=5, ll=-1, verbose=False)"
   ]
  },
  {
   "cell_type": "markdown",
   "metadata": {},
   "source": [
    "---\n",
    "### Synthetic Data"
   ]
  },
  {
   "cell_type": "code",
   "execution_count": 13,
   "metadata": {
    "scrolled": true
   },
   "outputs": [
    {
     "name": "stdout",
     "output_type": "stream",
     "text": [
      ">> synthetic_data0 loaded  0.7017009258270264\n",
      ">> synthetic_data1 loaded  0.6680588722229004\n",
      ">> synthetic_data2 loaded  0.6585648059844971\n",
      ">> synthetic_data3 loaded  0.6598248481750488\n",
      ">> synthetic_data4 loaded  0.6606054306030273\n",
      ">> synthetic_data5 loaded  0.6677930355072021\n",
      ">> synthetic_data6 loaded  0.6645865440368652\n",
      ">> synthetic_data7 loaded  0.6492540836334229\n",
      ">> synthetic_data8 loaded  0.6452634334564209\n",
      ">> synthetic_data9 loaded  0.640587568283081\n",
      ">> synthetic_data10 loaded  0.6666841506958008\n",
      ">> synthetic_data11 loaded  0.656623363494873\n",
      ">> synthetic_data12 loaded  0.639756441116333\n",
      ">> synthetic_data13 loaded  0.646275520324707\n",
      ">> synthetic_data14 loaded  0.6372087001800537\n",
      ">> synthetic_data15 loaded  0.6739466190338135\n",
      ">> synthetic_data16 loaded  0.6444461345672607\n",
      ">> synthetic_data17 loaded  0.641925573348999\n",
      ">> synthetic_data18 loaded  0.6445713043212891\n",
      ">> synthetic_data19 loaded  0.6500153541564941\n",
      ">> synthetic_data20 loaded  0.6492445468902588\n",
      ">> synthetic_data21 loaded  0.6556437015533447\n",
      ">> synthetic_data22 loaded  0.6563582420349121\n",
      ">> synthetic_data23 loaded  0.6607117652893066\n",
      ">> synthetic_data24 loaded  0.6639904975891113\n",
      ">> synthetic_data25 loaded  0.6667206287384033\n",
      ">> synthetic_data26 loaded  0.6663908958435059\n",
      ">> synthetic_data27 loaded  0.6682765483856201\n",
      ">> synthetic_data28 loaded  0.66489577293396\n",
      ">> synthetic_data29 loaded  0.6693451404571533\n",
      ">> synthetic_data30 loaded  0.6581413745880127\n",
      ">> synthetic_data31 loaded  0.6621873378753662\n",
      ">> synthetic_data32 loaded  0.6574721336364746\n",
      ">> synthetic_data33 loaded  0.649024248123169\n",
      ">> synthetic_data34 loaded  0.6448516845703125\n",
      ">> synthetic_data35 loaded  0.6749000549316406\n",
      ">> synthetic_data36 loaded  0.6554887294769287\n",
      ">> synthetic_data37 loaded  0.6664772033691406\n",
      ">> synthetic_data38 loaded  0.6569240093231201\n",
      ">> synthetic_data39 loaded  0.6695294380187988\n",
      ">> synthetic_data40 loaded  0.6688556671142578\n",
      ">> synthetic_data41 loaded  0.6660637855529785\n",
      ">> synthetic_data42 loaded  0.6598074436187744\n",
      ">> synthetic_data43 loaded  0.6567256450653076\n",
      ">> synthetic_data44 loaded  0.6585791110992432\n",
      ">> synthetic_data45 loaded  0.6766304969787598\n",
      ">> synthetic_data46 loaded  0.6530287265777588\n",
      ">> synthetic_data47 loaded  0.6440114974975586\n",
      ">> synthetic_data48 loaded  0.6603739261627197\n",
      ">> synthetic_data49 loaded  0.6553006172180176\n",
      ">> synthetic_data50 loaded  0.6413791179656982\n",
      ">> synthetic_data51 loaded  0.656627893447876\n",
      ">> synthetic_data52 loaded  0.7304446697235107\n",
      ">> synthetic_data53 loaded  0.6711306571960449\n",
      ">> synthetic_data54 loaded  0.6559934616088867\n",
      ">> synthetic_data55 loaded  0.6509428024291992\n",
      ">> synthetic_data56 loaded  0.6604764461517334\n",
      ">> synthetic_data57 loaded  0.6550524234771729\n",
      ">> synthetic_data58 loaded  0.6690599918365479\n",
      ">> synthetic_data59 loaded  0.661005973815918\n",
      ">> synthetic_data60 loaded  0.6647930145263672\n",
      ">> synthetic_data61 loaded  0.6600203514099121\n",
      ">> synthetic_data62 loaded  0.6438345909118652\n",
      ">> synthetic_data63 loaded  0.6576840877532959\n",
      ">> synthetic_data64 loaded  0.6744718551635742\n",
      ">> synthetic_data65 loaded  0.6728911399841309\n",
      ">> synthetic_data66 loaded  0.6678798198699951\n",
      ">> synthetic_data67 loaded  0.6764819622039795\n",
      ">> synthetic_data68 loaded  0.7108156681060791\n",
      ">> synthetic_data69 loaded  0.6722216606140137\n",
      ">> synthetic_data70 loaded  0.6642317771911621\n",
      ">> synthetic_data71 loaded  0.6566128730773926\n",
      ">> synthetic_data72 loaded  0.6711890697479248\n",
      ">> synthetic_data73 loaded  0.6502678394317627\n",
      ">> synthetic_data74 loaded  0.6493000984191895\n",
      ">> synthetic_data75 loaded  0.6481113433837891\n",
      ">> synthetic_data76 loaded  0.6590163707733154\n",
      ">> synthetic_data77 loaded  0.6465775966644287\n",
      ">> synthetic_data78 loaded  0.6489236354827881\n",
      ">> synthetic_data79 loaded  0.6540725231170654\n",
      ">> synthetic_data80 loaded  0.6508426666259766\n",
      ">> synthetic_data81 loaded  0.6720294952392578\n",
      ">> synthetic_data82 loaded  0.6659157276153564\n",
      ">> synthetic_data83 loaded  0.6667952537536621\n",
      ">> synthetic_data84 loaded  0.6572115421295166\n",
      ">> synthetic_data85 loaded  0.7032022476196289\n",
      ">> synthetic_data86 loaded  0.670482873916626\n",
      ">> synthetic_data87 loaded  0.6709492206573486\n",
      ">> synthetic_data88 loaded  0.6772842407226562\n",
      ">> synthetic_data89 loaded  0.6697380542755127\n",
      ">> synthetic_data90 loaded  0.6836831569671631\n",
      ">> synthetic_data91 loaded  0.6589765548706055\n",
      ">> synthetic_data92 loaded  0.6607701778411865\n",
      ">> synthetic_data93 loaded  0.6613278388977051\n",
      ">> synthetic_data94 loaded  0.6759154796600342\n",
      ">> synthetic_data95 loaded  0.673975944519043\n",
      ">> synthetic_data96 loaded  0.6565990447998047\n",
      ">> synthetic_data97 loaded  0.6640381813049316\n",
      ">> synthetic_data98 loaded  0.6692018508911133\n",
      ">> synthetic_data99 loaded  0.6549837589263916\n",
      ">> synthetic_data100 loaded  0.6649243831634521\n",
      ">> synthetic_data101 loaded  0.6783742904663086\n",
      ">> synthetic_data102 loaded  0.6575348377227783\n",
      ">> synthetic_data103 loaded  0.6719295978546143\n",
      ">> synthetic_data104 loaded  0.6654629707336426\n",
      ">> synthetic_data105 loaded  0.6648685932159424\n",
      ">> synthetic_data106 loaded  0.6726362705230713\n",
      ">> synthetic_data107 loaded  0.6750237941741943\n",
      ">> synthetic_data108 loaded  0.6672244071960449\n",
      ">> synthetic_data109 loaded  0.6684141159057617\n",
      ">> synthetic_data110 loaded  0.6603734493255615\n",
      ">> synthetic_data111 loaded  0.6720724105834961\n",
      ">> synthetic_data112 loaded  0.6712076663970947\n",
      ">> synthetic_data113 loaded  0.6699697971343994\n",
      ">> synthetic_data114 loaded  0.6697046756744385\n",
      ">> synthetic_data115 loaded  0.6710934638977051\n",
      ">> synthetic_data116 loaded  0.6677396297454834\n",
      ">> synthetic_data117 loaded  0.655698299407959\n",
      ">> synthetic_data118 loaded  0.660233736038208\n",
      ">> synthetic_data119 loaded  0.6696057319641113\n",
      ">> synthetic_data120 loaded  0.668997049331665\n",
      ">> synthetic_data121 loaded  0.6646237373352051\n",
      ">> synthetic_data122 loaded  0.6430747509002686\n",
      ">> synthetic_data123 loaded  0.6550600528717041\n",
      ">> synthetic_data124 loaded  0.6599760055541992\n",
      ">> synthetic_data125 loaded  0.6657447814941406\n",
      ">> synthetic_data126 loaded  0.6708831787109375\n",
      ">> synthetic_data127 loaded  0.6661379337310791\n",
      ">> synthetic_data128 loaded  0.6582586765289307\n",
      ">> synthetic_data129 loaded  0.6606032848358154\n",
      ">> synthetic_data130 loaded  0.6686098575592041\n",
      ">> synthetic_data131 loaded  0.6749458312988281\n",
      ">> synthetic_data132 loaded  0.6727941036224365\n",
      ">> synthetic_data133 loaded  0.6715407371520996\n",
      ">> synthetic_data134 loaded  0.6708557605743408\n",
      ">> synthetic_data135 loaded  0.6755449771881104\n",
      ">> synthetic_data136 loaded  0.6677508354187012\n",
      ">> synthetic_data137 loaded  0.6695497035980225\n",
      ">> synthetic_data138 loaded  0.6651723384857178\n",
      ">> synthetic_data139 loaded  0.6604697704315186\n",
      ">> synthetic_data140 loaded  0.6609361171722412\n",
      ">> synthetic_data141 loaded  0.655665397644043\n",
      ">> synthetic_data142 loaded  0.7004303932189941\n",
      ">> synthetic_data143 loaded  0.6659111976623535\n",
      ">> synthetic_data144 loaded  0.6667180061340332\n",
      ">> synthetic_data145 loaded  0.6814451217651367\n",
      ">> synthetic_data146 loaded  0.6752321720123291\n",
      ">> synthetic_data147 loaded  0.6640121936798096\n",
      ">> synthetic_data148 loaded  0.6637260913848877\n",
      ">> synthetic_data149 loaded  0.6642603874206543\n",
      ">> synthetic_data150 loaded  0.6912479400634766\n",
      ">> synthetic_data151 loaded  0.6695129871368408\n",
      ">> synthetic_data152 loaded  0.677553653717041\n",
      ">> synthetic_data153 loaded  0.6703135967254639\n",
      ">> synthetic_data154 loaded  0.6779191493988037\n",
      ">> synthetic_data155 loaded  0.6786479949951172\n",
      ">> synthetic_data156 loaded  0.6689784526824951\n",
      ">> synthetic_data157 loaded  0.6636250019073486\n",
      ">> synthetic_data158 loaded  0.6787123680114746\n",
      ">> synthetic_data159 loaded  0.6686434745788574\n",
      ">> synthetic_data160 loaded  0.6542651653289795\n",
      ">> synthetic_data161 loaded  0.6728289127349854\n",
      ">> synthetic_data162 loaded  0.6692264080047607\n",
      ">> synthetic_data163 loaded  0.6631476879119873\n",
      ">> synthetic_data164 loaded  0.6695461273193359\n",
      ">> synthetic_data165 loaded  0.6679911613464355\n",
      ">> synthetic_data166 loaded  0.6589338779449463\n",
      ">> synthetic_data167 loaded  0.6725327968597412\n",
      ">> synthetic_data168 loaded  0.6656086444854736\n",
      ">> synthetic_data169 loaded  0.6709699630737305\n",
      ">> synthetic_data170 loaded  0.6730086803436279\n",
      ">> synthetic_data171 loaded  0.6695041656494141\n",
      ">> synthetic_data172 loaded  0.6716399192810059\n",
      ">> synthetic_data173 loaded  0.6655299663543701\n",
      ">> synthetic_data174 loaded  0.6744070053100586\n",
      ">> synthetic_data175 loaded  0.6597084999084473\n",
      ">> synthetic_data176 loaded  0.6800432205200195\n",
      ">> synthetic_data177 loaded  0.6632881164550781\n",
      ">> synthetic_data178 loaded  0.6726362705230713\n",
      ">> synthetic_data179 loaded  0.6753497123718262\n",
      ">> synthetic_data180 loaded  0.6682121753692627\n",
      ">> synthetic_data181 loaded  0.6600279808044434\n",
      ">> synthetic_data182 loaded  0.6747736930847168\n",
      ">> synthetic_data183 loaded  0.6561148166656494\n",
      ">> synthetic_data184 loaded  0.6657328605651855\n",
      ">> synthetic_data185 loaded  0.668522834777832\n",
      ">> synthetic_data186 loaded  0.6683874130249023\n",
      ">> synthetic_data187 loaded  0.6679434776306152\n",
      ">> synthetic_data188 loaded  0.6774585247039795\n",
      ">> synthetic_data189 loaded  0.8282878398895264\n",
      ">> synthetic_data190 loaded  0.6747922897338867\n",
      ">> synthetic_data191 loaded  0.6647264957427979\n",
      ">> synthetic_data192 loaded  0.6631796360015869\n",
      ">> synthetic_data193 loaded  0.66636061668396\n",
      ">> synthetic_data194 loaded  0.6656110286712646\n",
      ">> synthetic_data195 loaded  0.6722800731658936\n",
      ">> synthetic_data196 loaded  0.6659574508666992\n",
      ">> synthetic_data197 loaded  0.6676881313323975\n",
      ">> synthetic_data198 loaded  0.6680920124053955\n",
      ">> synthetic_data199 loaded  0.6631369590759277\n"
     ]
    }
   ],
   "source": [
    "import csv\n",
    "synthetic_data = tl.tensor(np.zeros([1000, 10, 20, 30], dtype='d'))\n",
    "\n",
    "for i in range(200):\n",
    "    start = time.time()\n",
    "    with open('../Data/synthetic_data/data_normal/data{}.tensor'.format(i)) as file:\n",
    "        reader = csv.reader(file, delimiter='\\t')    \n",
    "        for row in reader:\n",
    "            indices = [[index] for index in np.int64(np.asarray(row[:-1]))-1]\n",
    "            synthetic_data[tuple(indices)] = np.double(row[-1])\n",
    "    print('>> synthetic_data{} loaded '.format(i), time.time() - start)"
   ]
  },
  {
   "cell_type": "code",
   "execution_count": 14,
   "metadata": {},
   "outputs": [],
   "source": [
    "n_iter = 3\n",
    "ul = 1.2\n",
    "ll = 1.1"
   ]
  },
  {
   "cell_type": "code",
   "execution_count": null,
   "metadata": {
    "scrolled": true
   },
   "outputs": [
    {
     "name": "stdout",
     "output_type": "stream",
     "text": [
      "-----------------------------------\n",
      "making init decomposition result: 281.03733706474304\n",
      "\n",
      " >> dao rank-150 n_iter-3\n",
      "||A-B||: 6067.47367144361\n",
      "split: 8 refine: 0\n",
      "global fitness 0.9752958289599828\n",
      "local fitness 0.9841423220274383\n",
      "global running time 2600.2035672664642\n",
      "local running time 8.762575154834323\n",
      "\n",
      " >> dtd rank-150 n_iter-3\n",
      "||A-B||: 206074.02460013048\n",
      "global fitness 0.16095425768611848\n",
      "local fitness 0.14865381313284165\n",
      "global running time 301.71938705444336\n",
      "local running time 3.337202625804477\n",
      "\n",
      " >> ocp rank-150 n_iter-3\n",
      "||A-B||: 209703.25791351096\n",
      "global fitness 0.14617756389676617\n",
      "local fitness 0.15211060946516508\n",
      "global running time 133.06432938575745\n",
      "local running time 1.4569129361046684\n",
      "\n",
      " >> fcp rank-150 n_iter-3\n"
     ]
    }
   ],
   "source": [
    "tensor_stream = create_tensor_stream(synthetic_data, start_to_stream=100, batch_sizes=np.full((90), 10, dtype=int))\n",
    "# results['synthetic50'] = online_tensor_decomposition('synthetic', synthetic_data, tensor_stream, rank=50, n_iter=n_iter, ul=ul, ll=ll, verbose=False)\n",
    "# results['synthetic100'] = online_tensor_decomposition('synthetic', synthetic_data, tensor_stream, rank=100, n_iter=n_iter, ul=ul, ll=ll, verbose=False)\n",
    "results['synthetic150'] = online_tensor_decomposition('synthetic', synthetic_data, tensor_stream, rank=150, n_iter=n_iter, ul=ul, ll=ll, verbose=False)\n",
    "results['synthetic200'] = online_tensor_decomposition('synthetic', synthetic_data, tensor_stream, rank=200, n_iter=n_iter, ul=ul, ll=ll, verbose=False)\n",
    "# results['synthetic30'] = online_tensor_decomposition('synthetic', synthetic_data, tensor_stream, rank=30, n_iter=n_iter, ul=ul, ll=ll, verbose=False)\n",
    "# results['synthetic40'] = online_tensor_decomposition('synthetic', synthetic_data, tensor_stream, rank=40, n_iter=n_iter, ul=ul, ll=ll, verbose=False)"
   ]
  },
  {
   "cell_type": "code",
   "execution_count": null,
   "metadata": {
    "scrolled": true
   },
   "outputs": [],
   "source": [
    "plot(('synthetic50', 'synthetic100', 'synthetic150', 'synthetic200', '_synthetic100'), 'synthetic')"
   ]
  },
  {
   "cell_type": "markdown",
   "metadata": {},
   "source": [
    "---\n",
    "### Sample Video"
   ]
  },
  {
   "cell_type": "code",
   "execution_count": null,
   "metadata": {
    "scrolled": true
   },
   "outputs": [],
   "source": [
    "import csv\n",
    "sample_video = tl.tensor(np.zeros([205, 240, 320, 3], dtype='d'))\n",
    "\n",
    "for i in range(41):\n",
    "    start = time.time()\n",
    "    with open('../Data/sample_video/data/video{}.tensor'.format(i)) as file:\n",
    "        reader = csv.reader(file, delimiter='\\t')    \n",
    "        for row in reader:\n",
    "            indices = [[index] for index in np.int64(np.asarray(row[:-1]))-1]\n",
    "            sample_video[tuple(indices)] = np.double(row[-1])\n",
    "    print('>> sample_video{} loaded '.format(i), time.time() - start)"
   ]
  },
  {
   "cell_type": "code",
   "execution_count": null,
   "metadata": {},
   "outputs": [],
   "source": [
    "n_iter = 3\n",
    "ul = 6\n",
    "ll = 2"
   ]
  },
  {
   "cell_type": "code",
   "execution_count": null,
   "metadata": {
    "scrolled": true
   },
   "outputs": [],
   "source": [
    "tensor_stream = create_tensor_stream(sample_video, start_to_stream=5, batch_sizes=np.full((40), 5, dtype=int))\n",
    "results['video10'] = online_tensor_decomposition('video', sample_video, tensor_stream, rank=10, n_iter=n_iter, ul=ul, ll=ll, verbose=False)\n",
    "results['video20'] = online_tensor_decomposition('video', sample_video, tensor_stream, rank=20, n_iter=n_iter, ul=ul, ll=ll, verbose=False)\n",
    "results['video30'] = online_tensor_decomposition('video', sample_video, tensor_stream, rank=30, n_iter=n_iter, ul=ul, ll=ll, verbose=False)\n",
    "results['video40'] = online_tensor_decomposition('video', sample_video, tensor_stream, rank=40, n_iter=n_iter, ul=ul, ll=ll, verbose=False)\n",
    "results['video50'] = online_tensor_decomposition('video', sample_video, tensor_stream, rank=50, n_iter=n_iter, ul=ul, ll=ll, verbose=False)"
   ]
  },
  {
   "cell_type": "code",
   "execution_count": null,
   "metadata": {
    "scrolled": true
   },
   "outputs": [],
   "source": [
    "plot(('video10', 'video20', 'video30', 'video40', 'video50'), 'video')"
   ]
  },
  {
   "cell_type": "markdown",
   "metadata": {},
   "source": [
    "---\n",
    "### Stock"
   ]
  },
  {
   "cell_type": "code",
   "execution_count": 14,
   "metadata": {},
   "outputs": [],
   "source": [
    "import pickle\n",
    "with open('../Data/stock/index_data.pkl', 'rb') as f:\n",
    "    index_data = pickle.load(f)"
   ]
  },
  {
   "cell_type": "code",
   "execution_count": 15,
   "metadata": {},
   "outputs": [
    {
     "name": "stdout",
     "output_type": "stream",
     "text": [
      ">> stock_data loaded  11.953210353851318\n"
     ]
    }
   ],
   "source": [
    "import csv\n",
    "\n",
    "stock_data = tl.tensor(np.zeros([855, 189, 5], dtype='d'))\n",
    "start = time.time()\n",
    "with open('../Data/stock/Stock_.tensor') as file:\n",
    "    reader = csv.reader(file, delimiter='\\t')    \n",
    "    for row in reader:\n",
    "        indices = np.asarray([index for index in np.int64(np.asarray(row[:-1]))])[[1, 0, 2]]\n",
    "        stock_data[tuple(indices)] = np.double(row[-1])\n",
    "print('>> stock_data loaded ', time.time() - start)"
   ]
  },
  {
   "cell_type": "code",
   "execution_count": 19,
   "metadata": {},
   "outputs": [],
   "source": [
    "n_iter = 1\n",
    "ul = 5\n",
    "ll = 3"
   ]
  },
  {
   "cell_type": "code",
   "execution_count": null,
   "metadata": {},
   "outputs": [],
   "source": [
    "tensor_stream = create_tensor_stream(stock_data, start_to_stream=5, batch_sizes=np.full((170), 5, dtype=int))\n",
    "results['stock2'] = online_tensor_decomposition('stock', stock_data, tensor_stream, rank=2, n_iter=n_iter, ul=ul, ll=ll, verbose=False)\n",
    "results['stock3'] = online_tensor_decomposition('stock', stock_data, tensor_stream, rank=3, n_iter=n_iter, ul=ul, ll=ll, verbose=False)\n",
    "results['stock4'] = online_tensor_decomposition('stock', stock_data, tensor_stream, rank=4, n_iter=n_iter, ul=ul, ll=ll, verbose=False)\n",
    "results['stock5'] = online_tensor_decomposition('stock', stock_data, tensor_stream, rank=5, n_iter=n_iter, ul=ul, ll=ll, verbose=False)\n",
    "results['stock7'] = online_tensor_decomposition('stock', stock_data, tensor_stream, rank=7, n_iter=n_iter, ul=ul, ll=ll, verbose=False)\n",
    "# results['stock10'] = online_tensor_decomposition('stock', stock_data, tensor_stream, rank=10, n_iter=n_iter, ul=ul, ll=ll, verbose=False)"
   ]
  },
  {
   "cell_type": "code",
   "execution_count": null,
   "metadata": {
    "scrolled": true
   },
   "outputs": [],
   "source": [
    "plot(('stock2', 'stock3', 'stock4', 'stock5', 'stock7'), 'stock')"
   ]
  },
  {
   "cell_type": "code",
   "execution_count": 18,
   "metadata": {},
   "outputs": [
    {
     "name": "stdout",
     "output_type": "stream",
     "text": [
      ">> stock_data loaded  31.26058864593506\n"
     ]
    }
   ],
   "source": [
    "import csv\n",
    "\n",
    "stock_data = tl.tensor(np.zeros([3089, 140, 5], dtype='d'))\n",
    "start = time.time()\n",
    "with open('../Data/stock/KOSPI140.tensor') as file:\n",
    "    reader = csv.reader(file, delimiter='\\t')    \n",
    "    for row in reader:\n",
    "        indices = np.asarray([index for index in np.int64(np.asarray(row[:-1]))])[[1, 0, 2]]\n",
    "        stock_data[tuple(indices)] = np.double(row[-1])\n",
    "print('>> stock_data loaded ', time.time() - start)"
   ]
  },
  {
   "cell_type": "code",
   "execution_count": 50,
   "metadata": {},
   "outputs": [],
   "source": [
    "n_iter = 1\n",
    "ul = 6\n",
    "ll = 5"
   ]
  },
  {
   "cell_type": "code",
   "execution_count": 57,
   "metadata": {
    "scrolled": true
   },
   "outputs": [
    {
     "name": "stdout",
     "output_type": "stream",
     "text": [
      "-----------------------------------\n",
      "making init decomposition result: 0.3480968475341797\n",
      "\n",
      " >> dao rank-25 n_iter-1\n",
      "||A-B||: 29.18178259505478\n",
      "split: 23 refine: 1\n",
      "global fitness 0.9778260768450601\n",
      "local fitness 0.9710988220575579\n",
      "global running time 15.83847689628601\n",
      "local running time 0.009754554075025863\n",
      "\n",
      " >> dtd rank-25 n_iter-1\n",
      "||A-B||: 29.843395512626696\n",
      "global fitness 0.9773233469674466\n",
      "local fitness 0.9701127248299989\n",
      "global running time 12.590667724609375\n",
      "local running time 0.011024112135519777\n",
      "\n",
      " >> ocp rank-25 n_iter-1\n",
      "||A-B||: 30.015647299051984\n",
      "global fitness 0.9771924605878002\n",
      "local fitness 0.9700823502075098\n",
      "global running time 3.7882869243621826\n",
      "local running time 0.002472160159381911\n",
      "\n",
      " >> fcp rank-25 n_iter-1\n",
      "global fitness 0.9785085091729641\n",
      "global running time 56.892364501953125\n",
      "-----------------------------------\n",
      "making init decomposition result: 0.17501091957092285\n",
      "\n",
      " >> dao rank-30 n_iter-1\n",
      "||A-B||: 28.528782552343912\n",
      "split: 23 refine: 1\n",
      "global fitness 0.9783222621867225\n",
      "local fitness 0.9708835391577324\n",
      "global running time 19.140045881271362\n",
      "local running time 0.01232513704188603\n",
      "\n",
      " >> dtd rank-30 n_iter-1\n",
      "||A-B||: 29.18052351322528\n",
      "global fitness 0.9778270335646725\n",
      "local fitness 0.9698969902347401\n",
      "global running time 13.975596189498901\n",
      "local running time 0.012161062617246279\n",
      "\n",
      " >> ocp rank-30 n_iter-1\n",
      "||A-B||: 29.48902339539749\n",
      "global fitness 0.9775926183894408\n",
      "local fitness 0.9698636094712365\n",
      "global running time 3.395354747772217\n",
      "local running time 0.0021642741062297896\n",
      "\n",
      " >> fcp rank-30 n_iter-1\n",
      "global fitness 0.9790931505792001\n",
      "global running time 67.0520122051239\n"
     ]
    }
   ],
   "source": [
    "tensor_stream = create_tensor_stream(stock_data, start_to_stream=5, batch_sizes=np.full((1028), 3, dtype=int))\n",
    "# results['stock10'] = online_tensor_decomposition('stock', stock_data, tensor_stream, rank=10, n_iter=n_iter, ul=ul, ll=ll, verbose=False)\n",
    "# results['stock15'] = online_tensor_decomposition('stock', stock_data, tensor_stream, rank=15, n_iter=n_iter, ul=ul, ll=ll, verbose=False)\n",
    "# results['stock20'] = online_tensor_decomposition('stock', stock_data, tensor_stream, rank=20, n_iter=n_iter, ul=ul, ll=ll, verbose=False)\n",
    "results['stock25'] = online_tensor_decomposition('stock', stock_data, tensor_stream, rank=25, n_iter=n_iter, ul=ul, ll=ll, verbose=False)\n",
    "results['stock30'] = online_tensor_decomposition('stock', stock_data, tensor_stream, rank=30, n_iter=n_iter, ul=ul, ll=ll, verbose=False)"
   ]
  },
  {
   "cell_type": "code",
   "execution_count": 58,
   "metadata": {},
   "outputs": [
    {
     "data": {
      "image/png": "[encoded data removed]",
      "text/plain": [
       "<Figure size 600x600 with 2 Axes>"
      ]
     },
     "metadata": {
      "needs_background": "light"
     },
     "output_type": "display_data"
    },
    {
     "data": {
      "image/png": "[encoded data removed]",
      "text/plain": [
       "<Figure size 600x600 with 2 Axes>"
      ]
     },
     "metadata": {
      "needs_background": "light"
     },
     "output_type": "display_data"
    }
   ],
   "source": [
    "plot(('stock10', 'stock15', 'stock20', 'stock25', 'stock30'), 'stock')"
   ]
  },
  {
   "cell_type": "markdown",
   "metadata": {},
   "source": [
    "---\n",
    "### Air Quality Tensor\n",
    "* `<date> <location> <air pollutants> (measurement)`\n",
    "* Beijing Air Quality\n",
    "  * 2,454,305 out of 2,524,536 (35,063 * 12 * 6)\n",
    "* Korea Air Quality\n",
    "  * 11,270,028 out of 18,368,364 (9,478 * 323 * 6)\n",
    "* Madrid Air Quality\n",
    "  * 8,036,759 out of 21,587,328 (64,248 * 24 * 14)"
   ]
  },
  {
   "cell_type": "code",
   "execution_count": 54,
   "metadata": {},
   "outputs": [],
   "source": [
    "import csv\n",
    "import time\n",
    "import numpy as np\n",
    "import pandas as pd\n",
    "\n",
    "beijing_df = pd.read_csv('../Data/air_quality/BeijingAirQuality/beijing.tensor', delimiter='\\t', header=None)\n",
    "korea_df = pd.read_csv('../Data/air_quality/KoreaAirQuality/korea_airquality.tensor', delimiter='\\t', header=None)\n",
    "madrid_df = pd.read_csv('../Data/air_quality/MadridAirQuality/1hour_madrid.tensor', delimiter='\\t', header=None)"
   ]
  },
  {
   "cell_type": "code",
   "execution_count": 55,
   "metadata": {},
   "outputs": [],
   "source": [
    "def get_tensor(df):\n",
    "    start = time.time()\n",
    "\n",
    "    dims = df[[0,1,2]].max()+1\n",
    "    tensor = np.empty(dims) * np.nan\n",
    "    tensor.shape\n",
    "\n",
    "    for i, row in df.iterrows():\n",
    "        indices = [[index] for index in np.int64(np.asarray(row[:-1]))]\n",
    "        tensor[tuple(indices)] = np.double(row[3])\n",
    "\n",
    "    avg = []\n",
    "    for i in range(tensor.shape[2]):\n",
    "        avg.append(np.nanmean(tensor[:,:,i]))\n",
    "    inds = np.where(np.isnan(tensor))\n",
    "    for ind in zip(inds[0], inds[1], inds[2]):\n",
    "        tensor[ind] = avg[ind[-1]]\n",
    "        \n",
    "    print(time.time() - start)\n",
    "    return tensor"
   ]
  },
  {
   "cell_type": "code",
   "execution_count": 56,
   "metadata": {
    "scrolled": true
   },
   "outputs": [
    {
     "name": "stdout",
     "output_type": "stream",
     "text": [
      "307.2204463481903\n",
      "1402.2160918712616\n",
      "989.2931790351868\n"
     ]
    }
   ],
   "source": [
    "beijing_tensor = get_tensor(beijing_df)\n",
    "korea_tensor = get_tensor(korea_df)\n",
    "madrid_tensor = get_tensor(madrid_df)"
   ]
  },
  {
   "cell_type": "code",
   "execution_count": 63,
   "metadata": {},
   "outputs": [
    {
     "name": "stdout",
     "output_type": "stream",
     "text": [
      "(35064, 12, 6) (9479, 323, 6) (64248, 24, 14)\n"
     ]
    }
   ],
   "source": [
    "print(beijing_tensor.shape, korea_tensor.shape, madrid_tensor.shape)"
   ]
  },
  {
   "cell_type": "code",
   "execution_count": 107,
   "metadata": {},
   "outputs": [
    {
     "name": "stdout",
     "output_type": "stream",
     "text": [
      "-----------------------------------\n",
      "making init decomposition result: 3.8793256282806396\n",
      "\n",
      " >> dao rank-30 n_iter-1\n",
      "||A-B||: 16892.158297488953\n",
      "split: 44 refine: 0\n",
      "global fitness 0.9845403657395719\n",
      "local fitness 0.8719754842783708\n",
      "global running time 80.35496258735657\n",
      "local running time 0.018417970098630346\n",
      "\n",
      " >> dtd rank-30 n_iter-1\n",
      "||A-B||: 19335.461387640582\n",
      "global fitness 0.9823042647336553\n",
      "local fitness 0.7742715502595306\n",
      "global running time 4.536718845367432\n",
      "local running time 0.04381970925764604\n",
      "\n",
      " >> ocp rank-30 n_iter-1\n",
      "||A-B||: 19470.7537469504\n",
      "global fitness 0.982180445719156\n",
      "local fitness 0.7742733173351494\n",
      "global running time 0.7420125007629395\n",
      "local running time 0.0057691516298236266\n",
      "\n",
      " >> fcp rank-30 n_iter-1\n",
      "global fitness 0.9833589286379566\n",
      "global running time 65.3611011505127\n"
     ]
    }
   ],
   "source": [
    "(n_iter, ul, ll) = (1, 5, -1)\n",
    "tensor_stream = create_tensor_stream(beijing_tensor, start_to_stream=414, batch_sizes=np.full((99), 350, dtype=int))\n",
    "results['beijing30'] = online_tensor_decomposition('beijing', beijing_tensor, tensor_stream, rank=30, n_iter=n_iter, ul=ul, ll=ll, verbose=False)"
   ]
  },
  {
   "cell_type": "markdown",
   "metadata": {},
   "source": [
    "---\n",
    "### Hall from OLSTEC\n",
    "* `hall1-200.mat`: 144 * 176 * 200 => 200 * 144 * 176\n",
    "* `hall_144x100_frame2900-3899_pan.mat`: 144 * 100 * 1000 => 1000 * 144 * 100"
   ]
  },
  {
   "cell_type": "code",
   "execution_count": 121,
   "metadata": {},
   "outputs": [
    {
     "name": "stdout",
     "output_type": "stream",
     "text": [
      "(200, 144, 176) (1000, 144, 100)\n"
     ]
    }
   ],
   "source": [
    "from scipy.io import loadmat\n",
    "import h5py\n",
    "\n",
    "hall1 = loadmat('../Data/hall/hall1-200.mat')['XO']\n",
    "hall1 = np.moveaxis(hall1, -1, 0)\n",
    "hall1 = hall1.reshape(200, 144, 176, order='F')\n",
    "\n",
    "with h5py.File('../Data/hall/hall_144x100_frame2900-3899_pan.mat', 'r') as f:\n",
    "    hall2 = np.array(f['X0'])\n",
    "    hall2 = hall2.reshape(1000, 144, 100, order='F')\n",
    "    \n",
    "hall1_tensor = tl.tensor(hall1, dtype='f')\n",
    "hall2_tensor = tl.tensor(hall2, dtype='f')\n",
    "print(hall1_tensor.shape, hall2_tensor.shape)\n",
    "# make_video(hall1, 'hall1.avi', False)\n",
    "# make_video(hall2, 'hall2.avi', False)"
   ]
  },
  {
   "cell_type": "code",
   "execution_count": 141,
   "metadata": {
    "scrolled": true
   },
   "outputs": [
    {
     "name": "stdout",
     "output_type": "stream",
     "text": [
      "-----------------------------------\n",
      "making init decomposition result: 2.608689069747925\n",
      "\n",
      " >> dao rank-35 n_iter-1\n",
      "||A-B||: 37069.651386343074\n",
      "split: 7 refine: 0\n",
      "global fitness 0.8952165565154355\n",
      "local fitness 0.9028290069169371\n",
      "global running time 22.83413791656494\n",
      "local running time 0.0663887576053017\n",
      "\n",
      " >> dtd rank-35 n_iter-1\n",
      "||A-B||: 41949.75141085721\n",
      "global fitness 0.8814221541945633\n",
      "local fitness 0.8811149043491011\n",
      "global running time 1.6146965026855469\n",
      "local running time 0.08189666898627031\n",
      "\n",
      " >> ocp rank-35 n_iter-1\n",
      "||A-B||: 43092.59155008446\n",
      "global fitness 0.8781917292873378\n",
      "local fitness 0.8838738054049644\n",
      "global running time 0.3166978359222412\n",
      "local running time 0.014226511905067846\n",
      "\n",
      " >> fcp rank-35 n_iter-1\n",
      "global fitness 0.8967402791202375\n",
      "global running time 63.445241928100586\n",
      "-----------------------------------\n",
      "making init decomposition result: 3.4749867916107178\n",
      "\n",
      " >> dao rank-40 n_iter-1\n",
      "||A-B||: 34281.992345186976\n",
      "split: 9 refine: 0\n",
      "global fitness 0.9030963315515944\n",
      "local fitness 0.910851701405809\n",
      "global running time 31.463981866836548\n",
      "local running time 0.06424275197480854\n",
      "\n",
      " >> dtd rank-40 n_iter-1\n",
      "||A-B||: 40048.63454096237\n",
      "global fitness 0.8867959725242271\n",
      "local fitness 0.8857900415521651\n",
      "global running time 1.9494657516479492\n",
      "local running time 0.099532403443989\n",
      "\n",
      " >> ocp rank-40 n_iter-1\n",
      "||A-B||: 41206.38445131062\n",
      "global fitness 0.8835234027059706\n",
      "local fitness 0.8881941241274915\n",
      "global running time 0.4015035629272461\n",
      "local running time 0.018885562294407895\n",
      "\n",
      " >> fcp rank-40 n_iter-1\n",
      "global fitness 0.9008721873893717\n",
      "global running time 72.86558055877686\n"
     ]
    }
   ],
   "source": [
    "(n_iter, ul, ll) = (1, 0.5, -1)\n",
    "results['hall1-20'] = online_tensor_decomposition('hall1', hall1_tensor, tensor_stream, rank=20, n_iter=n_iter, ul=ul, ll=ll, verbose=False)\n",
    "results['hall1-25'] = online_tensor_decomposition('hall1', hall1_tensor, tensor_stream, rank=25, n_iter=n_iter, ul=ul, ll=ll, verbose=False)\n",
    "results['hall1-30'] = online_tensor_decomposition('hall1', hall1_tensor, tensor_stream, rank=30, n_iter=n_iter, ul=ul, ll=ll, verbose=False)\n",
    "results['hall1-35'] = online_tensor_decomposition('hall1', hall1_tensor, tensor_stream, rank=35, n_iter=n_iter, ul=ul, ll=ll, verbose=False)\n",
    "results['hall1-40'] = online_tensor_decomposition('hall1', hall1_tensor, tensor_stream, rank=40, n_iter=n_iter, ul=ul, ll=ll, verbose=False)"
   ]
  },
  {
   "cell_type": "code",
   "execution_count": 142,
   "metadata": {},
   "outputs": [
    {
     "data": {
      "image/png": "[encoded data removed]",
      "text/plain": [
       "<Figure size 600x600 with 2 Axes>"
      ]
     },
     "metadata": {
      "needs_background": "light"
     },
     "output_type": "display_data"
    },
    {
     "data": {
      "image/png": "[encoded data removed]",
      "text/plain": [
       "<Figure size 600x600 with 2 Axes>"
      ]
     },
     "metadata": {
      "needs_background": "light"
     },
     "output_type": "display_data"
    }
   ],
   "source": [
    "plot(('hall1-20', 'hall1-25', 'hall1-30', 'hall1-35', 'hall1-40'), 'hall1')"
   ]
  },
  {
   "cell_type": "code",
   "execution_count": 152,
   "metadata": {
    "scrolled": true
   },
   "outputs": [
    {
     "name": "stdout",
     "output_type": "stream",
     "text": [
      "-----------------------------------\n",
      "making init decomposition result: 2.579552173614502\n",
      "\n",
      " >> dao rank-40 n_iter-1\n",
      "||A-B||: 83679.22164400591\n",
      "split: 19 refine: 5\n",
      "global fitness 0.8615826088476077\n",
      "local fitness 0.8767078598406718\n",
      "global running time 60.72488498687744\n",
      "local running time 0.07761384029777682\n",
      "\n",
      " >> dtd rank-40 n_iter-1\n",
      "||A-B||: 106386.36244701789\n",
      "global fitness 0.824021752893971\n",
      "local fitness 0.8247074044099396\n",
      "global running time 5.358786106109619\n",
      "local running time 0.08877046254216409\n",
      "\n",
      " >> ocp rank-40 n_iter-1\n",
      "||A-B||: 110206.17955237703\n",
      "global fitness 0.8177032295136694\n",
      "local fitness 0.8245286646059558\n",
      "global running time 1.6834924221038818\n",
      "local running time 0.012497989498839086\n",
      "\n",
      " >> fcp rank-40 n_iter-1\n",
      "global fitness 0.8478230188348744\n",
      "global running time 542.7991752624512\n",
      "-----------------------------------\n",
      "making init decomposition result: 3.2029900550842285\n",
      "\n",
      " >> dao rank-50 n_iter-1\n",
      "||A-B||: 73209.81425050416\n",
      "split: 24 refine: 2\n",
      "global fitness 0.8789005048539205\n",
      "local fitness 0.8892166995730434\n",
      "global running time 93.00656819343567\n",
      "local running time 0.06290686373807947\n",
      "\n",
      " >> dtd rank-50 n_iter-1\n",
      "||A-B||: 98983.42705547533\n",
      "global fitness 0.8362672659811549\n",
      "local fitness 0.836287696540047\n",
      "global running time 6.161194562911987\n",
      "local running time 0.10430269338646714\n",
      "\n",
      " >> ocp rank-50 n_iter-1\n",
      "||A-B||: 102541.50515726594\n",
      "global fitness 0.8303816963177377\n",
      "local fitness 0.8356142869456651\n",
      "global running time 1.6457529067993164\n",
      "local running time 0.012108676287592674\n",
      "\n",
      " >> fcp rank-50 n_iter-1\n",
      "global fitness 0.8558549910191273\n",
      "global running time 680.0215294361115\n"
     ]
    }
   ],
   "source": [
    "(n_iter, ul, ll) = (1, 2, 1.5)\n",
    "tensor_stream = create_tensor_stream(hall2_tensor, start_to_stream=20, batch_sizes=np.full((49), 20, dtype=int))\n",
    "# results['hall2-10'] = online_tensor_decomposition('hall2', hall2_tensor, tensor_stream, rank=10, n_iter=n_iter, ul=ul, ll=ll, verbose=False)\n",
    "# results['hall2-20'] = online_tensor_decomposition('hall2', hall2_tensor, tensor_stream, rank=20, n_iter=n_iter, ul=ul, ll=ll, verbose=False)\n",
    "# results['hall2-30'] = online_tensor_decomposition('hall2', hall2_tensor, tensor_stream, rank=30, n_iter=n_iter, ul=ul, ll=ll, verbose=False)\n",
    "results['hall2-40'] = online_tensor_decomposition('hall2', hall2_tensor, tensor_stream, rank=40, n_iter=n_iter, ul=ul, ll=ll, verbose=False)\n",
    "results['hall2-50'] = online_tensor_decomposition('hall2', hall2_tensor, tensor_stream, rank=50, n_iter=n_iter, ul=ul, ll=ll, verbose=False)"
   ]
  },
  {
   "cell_type": "code",
   "execution_count": 153,
   "metadata": {},
   "outputs": [
    {
     "data": {
      "image/png": "[encoded data removed]",
      "text/plain": [
       "<Figure size 600x600 with 2 Axes>"
      ]
     },
     "metadata": {
      "needs_background": "light"
     },
     "output_type": "display_data"
    },
    {
     "data": {
      "image/png": "[encoded data removed]",
      "text/plain": [
       "<Figure size 600x600 with 2 Axes>"
      ]
     },
     "metadata": {
      "needs_background": "light"
     },
     "output_type": "display_data"
    }
   ],
   "source": [
    "plot(('hall2-10', 'hall1-20', 'hall1-30', 'hall1-40', 'hall1-50'), 'hall2')"
   ]
  },
  {
   "cell_type": "code",
   "execution_count": null,
   "metadata": {},
   "outputs": [],
   "source": []
  }
 ],
 "metadata": {
  "kernelspec": {
   "display_name": "Python 3",
   "language": "python",
   "name": "python3"
  },
  "language_info": {
   "codemirror_mode": {
    "name": "ipython",
    "version": 3
   },
   "file_extension": ".py",
   "mimetype": "text/x-python",
   "name": "python",
   "nbconvert_exporter": "python",
   "pygments_lexer": "ipython3",
   "version": "3.8.3"
  }
 },
 "nbformat": 4,
 "nbformat_minor": 4
}
