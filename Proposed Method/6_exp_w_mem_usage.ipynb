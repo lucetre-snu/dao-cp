{
 "cells": [
  {
   "cell_type": "code",
   "execution_count": 52,
   "metadata": {},
   "outputs": [],
   "source": [
    "import time\n",
    "import math\n",
    "import numpy as np\n",
    "import tensorly as tl\n",
    "import pandas as pd\n",
    "import matplotlib.pyplot as plt\n",
    "from matplotlib.gridspec import GridSpec\n",
    "from brokenaxes import brokenaxes\n",
    "from online_tensor_decomposition_fcp1 import *"
   ]
  },
  {
   "cell_type": "code",
   "execution_count": 2,
   "metadata": {},
   "outputs": [],
   "source": [
    "# for sample video\n",
    "from cv2 import VideoWriter, VideoWriter_fourcc, imshow, imwrite\n",
    "\n",
    "def make_video(tensor, filename, isColor=True):\n",
    "    start = time.time()\n",
    "    height = tensor.shape[1]\n",
    "    width = tensor.shape[2]\n",
    "    FPS = 24\n",
    "\n",
    "    fourcc = VideoWriter_fourcc(*'MP42')\n",
    "    video = VideoWriter(filename, fourcc, float(FPS), (width, height), isColor)\n",
    "\n",
    "    for frame in tensor:\n",
    "        video.write(np.uint8(frame))\n",
    "    video.release()\n",
    "    print('created', filename, time.time()-start)"
   ]
  },
  {
   "cell_type": "code",
   "execution_count": 3,
   "metadata": {},
   "outputs": [],
   "source": [
    "try:\n",
    "    import cPickle as pickle\n",
    "except ImportError:  # Python 3.x\n",
    "    import pickle"
   ]
  },
  {
   "cell_type": "code",
   "execution_count": 4,
   "metadata": {},
   "outputs": [],
   "source": [
    "results = {}\n",
    "with open('results_0117.p', 'rb') as fp:\n",
    "    results = pickle.load(fp)"
   ]
  },
  {
   "cell_type": "code",
   "execution_count": 107,
   "metadata": {},
   "outputs": [],
   "source": [
    "with open('results0127.p', 'wb') as fp:\n",
    "    pickle.dump(results, fp, protocol=pickle.HIGHEST_PROTOCOL)"
   ]
  },
  {
   "cell_type": "code",
   "execution_count": 6,
   "metadata": {},
   "outputs": [],
   "source": [
    "def plot_local(datasets, name, labelpad=50):\n",
    "    def plot():\n",
    "        points  = []\n",
    "        for dataset in datasets:\n",
    "            if dataset in results:\n",
    "                for lib in libs:\n",
    "                    if lib in results[dataset]:\n",
    "                        point = [lib, dataset, [results[dataset][lib][3]], [results[dataset][lib][1]]]\n",
    "                        points.append(point)\n",
    "\n",
    "\n",
    "#         print(points)\n",
    "\n",
    "        bax = brokenaxes(xscale='log')\n",
    "#             bax = brokenaxes(xscale='log', subplot_spec=sps1)\n",
    "        for point in points :\n",
    "            lib, data, x, y = point\n",
    "            if len(x) != 0:\n",
    "                if x[0] != 0 and y[0] != 0:\n",
    "                    bax.plot(x, y, label=lib,\n",
    "                             c= dct[lib],  marker=dct1[data],\n",
    "                            mfc='none', ms = 10, mew = 1.8)\n",
    "#         bax.set_ylim([0.97,0.99])\n",
    "#         bax.set_yscale('log') \n",
    "#         bax.set_xscale('log')\n",
    "\n",
    "\n",
    "#         bax.tick_params(axis = 'y', labelsize =8)\n",
    "        bax.set_ylabel('Average of Local Fitness', size = 10, labelpad=labelpad)\n",
    "        bax.set_xlabel('Average of Local Running Time (s)', size = 10, labelpad=25)  ### Labelpad > space btw xaxis and xlabel\n",
    "        plt.subplots_adjust(hspace=0.1, bottom = 0.4 , left = 0.23, top = 0.9) ### Plot to remove whitespace of plot \n",
    "#         plt.show()\n",
    "#         plt.savefig(f'./plots/{name}_local.pdf',bbox_inches = 'tight', pad_inches = 0)\n",
    "        plt.savefig(f'./plots/{name}_local.svg',bbox_inches = 'tight', pad_inches = 0)\n",
    "\n",
    "    markers = (\"o\", \"x\", \"s\", \"^\", \"4\")\n",
    "    colors = ('dodgerblue','mediumseagreen', 'hotpink', '#fba84a')\n",
    "\n",
    "    libs = (\"dao\", \"dtd\", \"ocp\", 'fcp')\n",
    "    f = lambda m,c: plt.plot([],[], color=c, marker = m,\n",
    "                             mfc='none', ms = 10, mew = 1.8,\n",
    "                                ls=\"none\")[0]\n",
    "    f2 = lambda c: plt.plot([],[],marker='.', color=c, )[0]\n",
    "\n",
    "    dct = {}\n",
    "    dct1 = {}\n",
    "\n",
    "    for color, lib in zip(colors, libs):\n",
    "        dct[lib] = color\n",
    "\n",
    "    for data, marker in zip(datasets, markers):\n",
    "        dct1[data] = marker\n",
    "    \n",
    "    fig = plt.figure(figsize = (4, 4), dpi = 150,)   ### figsize = (row, col), dpi > resolution(?)\n",
    "#     sps1, sps2 = GridSpec(1,2)\n",
    "    plot()"
   ]
  },
  {
   "cell_type": "code",
   "execution_count": 7,
   "metadata": {},
   "outputs": [],
   "source": [
    "def plot_global(datasets, name, labelpad=50):\n",
    "    def plot():\n",
    "        points  = []\n",
    "        for dataset in datasets:\n",
    "            if dataset in results:\n",
    "                for lib in libs:\n",
    "                    if lib in results[dataset]:\n",
    "                        point = [lib, dataset, [results[dataset][lib][2]], [results[dataset][lib][0]]]\n",
    "                        points.append(point)\n",
    "#         print(points)\n",
    "\n",
    "        bax = brokenaxes(xscale='log')\n",
    "#             bax = brokenaxes(xscale='log', subplot_spec=sps2)\n",
    "        for point in points :\n",
    "            lib, data, x, y = point\n",
    "            if len(x) != 0:\n",
    "                if x[0] != 0 and y[0] != 0:\n",
    "                    bax.plot(x, y, label=lib,\n",
    "                             c= dct[lib],  marker=dct1[data],\n",
    "                            mfc='none', ms = 10, mew = 1.8)\n",
    "\n",
    "#         bax.set_ylim([0.97,0.99])\n",
    "#         bax.set_xscale('log') \n",
    "        bax.set_ylabel('Global Fitness', size = 10, labelpad=labelpad)\n",
    "        bax.set_xlabel('Global Running Time (s)', size = 10, labelpad=25)  ### Labelpad > space btw xaxis and xlabel\n",
    "        plt.subplots_adjust(hspace=0.1, bottom = 0.4 , left = 0.23, top = 0.9) ### Plot to remove whitespace of plot \n",
    "#         plt.show()\n",
    "        plt.savefig(f'./plots/{name}_global.svg',bbox_inches = 'tight', pad_inches = 0)\n",
    "#         plt.savefig(f'./plots/{name}_global.pdf',bbox_inches = 'tight', pad_inches = 0)\n",
    "\n",
    "    markers = (\"o\", \"x\", \"s\", \"^\", \"4\")\n",
    "    colors = ('dodgerblue','mediumseagreen', 'hotpink', '#fba84a')\n",
    "\n",
    "    libs = (\"dao\", \"dtd\", \"ocp\", 'fcp')\n",
    "    f = lambda m,c: plt.plot([],[], color=c, marker = m,\n",
    "                             mfc='none', ms = 10, mew = 1.8,\n",
    "                                ls=\"none\")[0]\n",
    "    f2 = lambda c: plt.plot([],[],marker='.', color=c, )[0]\n",
    "\n",
    "    dct = {}\n",
    "    dct1 = {}\n",
    "\n",
    "    for color, lib in zip(colors, libs):\n",
    "        dct[lib] = color\n",
    "\n",
    "    for data, marker in zip(datasets, markers):\n",
    "        dct1[data] = marker\n",
    "    \n",
    "    fig = plt.figure(figsize = (4, 4), dpi = 150,)   ### figsize = (row, col), dpi > resolution(?)\n",
    "#     sps1, sps2 = GridSpec(1,2)\n",
    "    plot()"
   ]
  },
  {
   "cell_type": "markdown",
   "metadata": {},
   "source": [
    "### Synthetic Data"
   ]
  },
  {
   "cell_type": "code",
   "execution_count": 8,
   "metadata": {
    "jupyter": {
     "source_hidden": true
    },
    "scrolled": true
   },
   "outputs": [
    {
     "name": "stdout",
     "output_type": "stream",
     "text": [
      ">> synthetic_data0 loaded  0.8036372661590576\n",
      ">> synthetic_data1 loaded  0.7937493324279785\n",
      ">> synthetic_data2 loaded  0.791825532913208\n",
      ">> synthetic_data3 loaded  0.7583863735198975\n",
      ">> synthetic_data4 loaded  0.8618288040161133\n",
      ">> synthetic_data5 loaded  0.7982239723205566\n",
      ">> synthetic_data6 loaded  0.8991434574127197\n",
      ">> synthetic_data7 loaded  1.0349154472351074\n",
      ">> synthetic_data8 loaded  0.8069455623626709\n",
      ">> synthetic_data9 loaded  0.8092312812805176\n",
      ">> synthetic_data10 loaded  0.9315512180328369\n",
      ">> synthetic_data11 loaded  0.8319196701049805\n",
      ">> synthetic_data12 loaded  0.7559518814086914\n",
      ">> synthetic_data13 loaded  0.7368896007537842\n",
      ">> synthetic_data14 loaded  1.001147747039795\n",
      ">> synthetic_data15 loaded  1.3474411964416504\n",
      ">> synthetic_data16 loaded  0.8665621280670166\n",
      ">> synthetic_data17 loaded  0.7760329246520996\n",
      ">> synthetic_data18 loaded  0.7544364929199219\n",
      ">> synthetic_data19 loaded  0.7518587112426758\n",
      ">> synthetic_data20 loaded  0.8361003398895264\n",
      ">> synthetic_data21 loaded  0.7875173091888428\n",
      ">> synthetic_data22 loaded  0.7531144618988037\n",
      ">> synthetic_data23 loaded  0.7431545257568359\n",
      ">> synthetic_data24 loaded  0.7660017013549805\n",
      ">> synthetic_data25 loaded  0.7433977127075195\n",
      ">> synthetic_data26 loaded  0.7584202289581299\n",
      ">> synthetic_data27 loaded  0.7593927383422852\n",
      ">> synthetic_data28 loaded  0.765812873840332\n",
      ">> synthetic_data29 loaded  0.7535269260406494\n",
      ">> synthetic_data30 loaded  0.7407369613647461\n",
      ">> synthetic_data31 loaded  0.7499799728393555\n",
      ">> synthetic_data32 loaded  0.7425484657287598\n",
      ">> synthetic_data33 loaded  0.7536337375640869\n",
      ">> synthetic_data34 loaded  0.7492821216583252\n",
      ">> synthetic_data35 loaded  0.781944751739502\n",
      ">> synthetic_data36 loaded  0.8292989730834961\n",
      ">> synthetic_data37 loaded  0.8161261081695557\n",
      ">> synthetic_data38 loaded  0.7213559150695801\n",
      ">> synthetic_data39 loaded  0.7570569515228271\n",
      ">> synthetic_data40 loaded  0.740647554397583\n",
      ">> synthetic_data41 loaded  0.7454278469085693\n",
      ">> synthetic_data42 loaded  0.8758177757263184\n",
      ">> synthetic_data43 loaded  0.7993359565734863\n",
      ">> synthetic_data44 loaded  0.739185094833374\n",
      ">> synthetic_data45 loaded  0.7367677688598633\n",
      ">> synthetic_data46 loaded  0.7325549125671387\n",
      ">> synthetic_data47 loaded  0.7672228813171387\n",
      ">> synthetic_data48 loaded  0.7708535194396973\n",
      ">> synthetic_data49 loaded  0.7399795055389404\n",
      ">> synthetic_data50 loaded  0.7530763149261475\n",
      ">> synthetic_data51 loaded  0.7688243389129639\n",
      ">> synthetic_data52 loaded  0.7675859928131104\n",
      ">> synthetic_data53 loaded  0.7777135372161865\n",
      ">> synthetic_data54 loaded  0.7568168640136719\n",
      ">> synthetic_data55 loaded  0.7478315830230713\n",
      ">> synthetic_data56 loaded  0.7335119247436523\n",
      ">> synthetic_data57 loaded  0.7488994598388672\n",
      ">> synthetic_data58 loaded  0.7352397441864014\n",
      ">> synthetic_data59 loaded  0.7532954216003418\n",
      ">> synthetic_data60 loaded  0.7274932861328125\n",
      ">> synthetic_data61 loaded  0.7572658061981201\n",
      ">> synthetic_data62 loaded  0.7336506843566895\n",
      ">> synthetic_data63 loaded  0.7525250911712646\n",
      ">> synthetic_data64 loaded  0.741694450378418\n",
      ">> synthetic_data65 loaded  0.7526073455810547\n",
      ">> synthetic_data66 loaded  0.7366542816162109\n",
      ">> synthetic_data67 loaded  0.757641077041626\n",
      ">> synthetic_data68 loaded  0.7421400547027588\n",
      ">> synthetic_data69 loaded  0.8326454162597656\n",
      ">> synthetic_data70 loaded  0.732978343963623\n",
      ">> synthetic_data71 loaded  0.7410025596618652\n",
      ">> synthetic_data72 loaded  0.7727150917053223\n",
      ">> synthetic_data73 loaded  0.7481210231781006\n",
      ">> synthetic_data74 loaded  0.7542119026184082\n",
      ">> synthetic_data75 loaded  0.7660009860992432\n",
      ">> synthetic_data76 loaded  0.8538351058959961\n",
      ">> synthetic_data77 loaded  0.7842943668365479\n",
      ">> synthetic_data78 loaded  0.7426760196685791\n",
      ">> synthetic_data79 loaded  0.7394194602966309\n",
      ">> synthetic_data80 loaded  0.757188081741333\n",
      ">> synthetic_data81 loaded  0.7579565048217773\n",
      ">> synthetic_data82 loaded  0.7907590866088867\n",
      ">> synthetic_data83 loaded  0.7760295867919922\n",
      ">> synthetic_data84 loaded  0.737415075302124\n",
      ">> synthetic_data85 loaded  0.7686114311218262\n",
      ">> synthetic_data86 loaded  0.7498202323913574\n",
      ">> synthetic_data87 loaded  0.7666223049163818\n",
      ">> synthetic_data88 loaded  0.7614133358001709\n",
      ">> synthetic_data89 loaded  0.8054955005645752\n",
      ">> synthetic_data90 loaded  0.8106439113616943\n",
      ">> synthetic_data91 loaded  0.7762513160705566\n",
      ">> synthetic_data92 loaded  0.7378008365631104\n",
      ">> synthetic_data93 loaded  0.7458264827728271\n",
      ">> synthetic_data94 loaded  0.7587809562683105\n",
      ">> synthetic_data95 loaded  0.7535560131072998\n",
      ">> synthetic_data96 loaded  0.7492415904998779\n",
      ">> synthetic_data97 loaded  1.002403736114502\n",
      ">> synthetic_data98 loaded  0.7474186420440674\n",
      ">> synthetic_data99 loaded  0.7307898998260498\n",
      ">> synthetic_data100 loaded  0.77559494972229\n",
      ">> synthetic_data101 loaded  0.7367265224456787\n",
      ">> synthetic_data102 loaded  0.7418310642242432\n",
      ">> synthetic_data103 loaded  0.7422599792480469\n",
      ">> synthetic_data104 loaded  0.7572147846221924\n",
      ">> synthetic_data105 loaded  0.7494697570800781\n",
      ">> synthetic_data106 loaded  0.8079738616943359\n",
      ">> synthetic_data107 loaded  0.7727506160736084\n",
      ">> synthetic_data108 loaded  0.8218691349029541\n",
      ">> synthetic_data109 loaded  0.7814316749572754\n",
      ">> synthetic_data110 loaded  0.8367650508880615\n",
      ">> synthetic_data111 loaded  0.9759731292724609\n",
      ">> synthetic_data112 loaded  0.7275846004486084\n",
      ">> synthetic_data113 loaded  0.8492608070373535\n",
      ">> synthetic_data114 loaded  0.7991976737976074\n",
      ">> synthetic_data115 loaded  0.7846262454986572\n",
      ">> synthetic_data116 loaded  0.7708430290222168\n",
      ">> synthetic_data117 loaded  0.7478880882263184\n",
      ">> synthetic_data118 loaded  0.7506368160247803\n",
      ">> synthetic_data119 loaded  0.7472741603851318\n",
      ">> synthetic_data120 loaded  0.7249338626861572\n",
      ">> synthetic_data121 loaded  0.7486464977264404\n",
      ">> synthetic_data122 loaded  0.7305231094360352\n",
      ">> synthetic_data123 loaded  0.7383840084075928\n",
      ">> synthetic_data124 loaded  0.7219514846801758\n",
      ">> synthetic_data125 loaded  0.7351686954498291\n",
      ">> synthetic_data126 loaded  0.7322940826416016\n",
      ">> synthetic_data127 loaded  0.7383930683135986\n",
      ">> synthetic_data128 loaded  0.7133266925811768\n",
      ">> synthetic_data129 loaded  0.7764794826507568\n",
      ">> synthetic_data130 loaded  0.768702507019043\n",
      ">> synthetic_data131 loaded  0.7407941818237305\n",
      ">> synthetic_data132 loaded  0.7222185134887695\n",
      ">> synthetic_data133 loaded  0.7393331527709961\n",
      ">> synthetic_data134 loaded  0.7437267303466797\n",
      ">> synthetic_data135 loaded  0.7361440658569336\n",
      ">> synthetic_data136 loaded  0.7633771896362305\n",
      ">> synthetic_data137 loaded  0.8578395843505859\n",
      ">> synthetic_data138 loaded  0.7304461002349854\n",
      ">> synthetic_data139 loaded  0.7568163871765137\n",
      ">> synthetic_data140 loaded  0.7291257381439209\n",
      ">> synthetic_data141 loaded  0.7407314777374268\n",
      ">> synthetic_data142 loaded  0.7198314666748047\n",
      ">> synthetic_data143 loaded  0.735297679901123\n",
      ">> synthetic_data144 loaded  0.743535041809082\n",
      ">> synthetic_data145 loaded  0.9890906810760498\n",
      ">> synthetic_data146 loaded  1.0484521389007568\n",
      ">> synthetic_data147 loaded  0.7537636756896973\n",
      ">> synthetic_data148 loaded  0.77752685546875\n",
      ">> synthetic_data149 loaded  0.8122270107269287\n",
      ">> synthetic_data150 loaded  0.747138261795044\n",
      ">> synthetic_data151 loaded  0.8988473415374756\n",
      ">> synthetic_data152 loaded  0.7589430809020996\n",
      ">> synthetic_data153 loaded  0.7509756088256836\n",
      ">> synthetic_data154 loaded  0.7458891868591309\n",
      ">> synthetic_data155 loaded  0.7479631900787354\n",
      ">> synthetic_data156 loaded  0.7417426109313965\n",
      ">> synthetic_data157 loaded  0.7576820850372314\n",
      ">> synthetic_data158 loaded  0.740584135055542\n",
      ">> synthetic_data159 loaded  0.8052880764007568\n",
      ">> synthetic_data160 loaded  0.7571415901184082\n",
      ">> synthetic_data161 loaded  0.7546212673187256\n",
      ">> synthetic_data162 loaded  0.7393109798431396\n",
      ">> synthetic_data163 loaded  0.7443079948425293\n",
      ">> synthetic_data164 loaded  0.7424273490905762\n",
      ">> synthetic_data165 loaded  0.7492623329162598\n",
      ">> synthetic_data166 loaded  0.7374818325042725\n",
      ">> synthetic_data167 loaded  0.7578744888305664\n",
      ">> synthetic_data168 loaded  0.7397394180297852\n",
      ">> synthetic_data169 loaded  0.7350900173187256\n",
      ">> synthetic_data170 loaded  0.734978437423706\n",
      ">> synthetic_data171 loaded  0.7395780086517334\n",
      ">> synthetic_data172 loaded  0.7292697429656982\n",
      ">> synthetic_data173 loaded  0.7449240684509277\n",
      ">> synthetic_data174 loaded  0.7340109348297119\n",
      ">> synthetic_data175 loaded  0.7865946292877197\n",
      ">> synthetic_data176 loaded  0.7950246334075928\n",
      ">> synthetic_data177 loaded  0.7574443817138672\n",
      ">> synthetic_data178 loaded  0.7461917400360107\n",
      ">> synthetic_data179 loaded  0.7430367469787598\n",
      ">> synthetic_data180 loaded  0.7462878227233887\n",
      ">> synthetic_data181 loaded  0.7502310276031494\n",
      ">> synthetic_data182 loaded  0.757854700088501\n",
      ">> synthetic_data183 loaded  0.755974292755127\n",
      ">> synthetic_data184 loaded  0.7476723194122314\n",
      ">> synthetic_data185 loaded  0.7435715198516846\n",
      ">> synthetic_data186 loaded  0.786527156829834\n",
      ">> synthetic_data187 loaded  0.7516903877258301\n",
      ">> synthetic_data188 loaded  0.7425956726074219\n",
      ">> synthetic_data189 loaded  0.7956595420837402\n",
      ">> synthetic_data190 loaded  0.7429723739624023\n",
      ">> synthetic_data191 loaded  0.7438247203826904\n",
      ">> synthetic_data192 loaded  0.7304027080535889\n",
      ">> synthetic_data193 loaded  0.728987455368042\n",
      ">> synthetic_data194 loaded  0.7442672252655029\n",
      ">> synthetic_data195 loaded  0.9368107318878174\n",
      ">> synthetic_data196 loaded  0.7643251419067383\n",
      ">> synthetic_data197 loaded  0.7619848251342773\n",
      ">> synthetic_data198 loaded  0.7377932071685791\n",
      ">> synthetic_data199 loaded  0.7624301910400391\n"
     ]
    }
   ],
   "source": [
    "import csv\n",
    "synthetic_data = tl.tensor(np.zeros([1000, 10, 20, 30], dtype='f'))\n",
    "\n",
    "for i in range(200):\n",
    "    start = time.time()\n",
    "    with open('../Data/synthetic_data/data_normal/data{}.tensor'.format(i)) as file:\n",
    "        reader = csv.reader(file, delimiter='\\t')    \n",
    "        for row in reader:\n",
    "            indices = [[index] for index in np.int64(np.asarray(row[:-1]))-1]\n",
    "            synthetic_data[tuple(indices)] = np.double(row[-1])\n",
    "    print('>> synthetic_data{} loaded '.format(i), time.time() - start)"
   ]
  },
  {
   "cell_type": "markdown",
   "metadata": {},
   "source": [
    "### Sample Video"
   ]
  },
  {
   "cell_type": "code",
   "execution_count": 9,
   "metadata": {
    "jupyter": {
     "source_hidden": true
    },
    "scrolled": true
   },
   "outputs": [
    {
     "name": "stdout",
     "output_type": "stream",
     "text": [
      ">> sample_video0 loaded  27.67925238609314\n",
      ">> sample_video1 loaded  28.622679710388184\n",
      ">> sample_video2 loaded  27.552937269210815\n",
      ">> sample_video3 loaded  28.469775438308716\n",
      ">> sample_video4 loaded  27.928786516189575\n",
      ">> sample_video5 loaded  27.986098527908325\n",
      ">> sample_video6 loaded  28.85197138786316\n",
      ">> sample_video7 loaded  27.97477626800537\n",
      ">> sample_video8 loaded  29.5269935131073\n",
      ">> sample_video9 loaded  29.120922327041626\n",
      ">> sample_video10 loaded  28.605287551879883\n",
      ">> sample_video11 loaded  28.109469175338745\n",
      ">> sample_video12 loaded  28.47954225540161\n",
      ">> sample_video13 loaded  28.785014867782593\n",
      ">> sample_video14 loaded  27.858304262161255\n",
      ">> sample_video15 loaded  27.82442855834961\n",
      ">> sample_video16 loaded  30.36730122566223\n",
      ">> sample_video17 loaded  27.841623544692993\n",
      ">> sample_video18 loaded  30.596217393875122\n",
      ">> sample_video19 loaded  29.177715063095093\n",
      ">> sample_video20 loaded  27.801016807556152\n",
      ">> sample_video21 loaded  29.776270627975464\n",
      ">> sample_video22 loaded  27.19718074798584\n",
      ">> sample_video23 loaded  27.515487670898438\n",
      ">> sample_video24 loaded  29.210742950439453\n",
      ">> sample_video25 loaded  30.234874963760376\n",
      ">> sample_video26 loaded  27.73554039001465\n",
      ">> sample_video27 loaded  26.89271831512451\n",
      ">> sample_video28 loaded  27.175768613815308\n",
      ">> sample_video29 loaded  28.886123418807983\n",
      ">> sample_video30 loaded  27.994296312332153\n",
      ">> sample_video31 loaded  28.06049656867981\n",
      ">> sample_video32 loaded  28.997778177261353\n",
      ">> sample_video33 loaded  27.791362047195435\n",
      ">> sample_video34 loaded  27.200653076171875\n",
      ">> sample_video35 loaded  27.59224557876587\n",
      ">> sample_video36 loaded  27.45008420944214\n",
      ">> sample_video37 loaded  27.460982084274292\n",
      ">> sample_video38 loaded  27.758179903030396\n",
      ">> sample_video39 loaded  26.97749400138855\n",
      ">> sample_video40 loaded  27.6415011882782\n"
     ]
    }
   ],
   "source": [
    "import csv\n",
    "sample_video = tl.tensor(np.zeros([205, 240, 320, 3], dtype='d'))\n",
    "\n",
    "for i in range(41):\n",
    "    start = time.time()\n",
    "    with open('../Data/sample_video/data/video{}.tensor'.format(i)) as file:\n",
    "        reader = csv.reader(file, delimiter='\\t')    \n",
    "        for row in reader:\n",
    "            indices = [[index] for index in np.int64(np.asarray(row[:-1]))-1]\n",
    "            sample_video[tuple(indices)] = np.double(row[-1])\n",
    "    print('>> sample_video{} loaded '.format(i), time.time() - start)"
   ]
  },
  {
   "cell_type": "markdown",
   "metadata": {},
   "source": [
    "### Stock"
   ]
  },
  {
   "cell_type": "code",
   "execution_count": 10,
   "metadata": {},
   "outputs": [
    {
     "name": "stdout",
     "output_type": "stream",
     "text": [
      ">> stock tensor loaded  38.540210008621216\n"
     ]
    }
   ],
   "source": [
    "import csv\n",
    "\n",
    "stock2_tensor = tl.tensor(np.zeros([3089, 140, 5], dtype='d'))\n",
    "start = time.time()\n",
    "with open('../Data/stock/KOSPI140/Stock.tensor') as file:\n",
    "    reader = csv.reader(file, delimiter='\\t')    \n",
    "    for row in reader:\n",
    "        indices = np.asarray([index for index in np.int64(np.asarray(row[:-1]))])[[1, 0, 2]]\n",
    "        stock2_tensor[tuple(indices)] = np.double(row[-1])\n",
    "print('>> stock tensor loaded ', time.time() - start)"
   ]
  },
  {
   "cell_type": "markdown",
   "metadata": {},
   "source": [
    "### Hall from OLSTEC\n",
    "* `hall1-200.mat`: 144 * 176 * 200 => 200 * 144 * 176\n",
    "* `hall_144x100_frame2900-3899_pan.mat`: 144 * 100 * 1000 => 1000 * 144 * 100"
   ]
  },
  {
   "cell_type": "code",
   "execution_count": 11,
   "metadata": {
    "jupyter": {
     "source_hidden": true
    }
   },
   "outputs": [
    {
     "name": "stdout",
     "output_type": "stream",
     "text": [
      "(200, 144, 176) (1000, 144, 100)\n"
     ]
    }
   ],
   "source": [
    "from scipy.io import loadmat\n",
    "import h5py\n",
    "\n",
    "hall1 = loadmat('../Data/hall/hall1-200.mat')['XO']\n",
    "hall1 = np.moveaxis(hall1, -1, 0)\n",
    "hall1 = hall1.reshape(200, 144, 176, order='F')\n",
    "\n",
    "with h5py.File('../Data/hall/hall_144x100_frame2900-3899_pan.mat', 'r') as f:\n",
    "    hall2 = np.array(f['X0'])\n",
    "    hall2 = hall2.reshape(1000, 144, 100, order='F')\n",
    "    \n",
    "hall1_tensor = tl.tensor(hall1, dtype='f')\n",
    "hall2_tensor = tl.tensor(hall2, dtype='f')\n",
    "print(hall1_tensor.shape, hall2_tensor.shape)\n",
    "# make_video(hall1, 'hall1.avi', False)\n",
    "# make_video(hall2, 'hall2.avi', False)"
   ]
  },
  {
   "cell_type": "markdown",
   "metadata": {},
   "source": [
    "### Air Quality Tensor\n",
    "* `<date> <location> <air pollutants> (measurement)`\n",
    "* Beijing Air Quality\n",
    "  * 2,454,305 out of 2,524,536 (35,063 * 12 * 6)\n",
    "* Korea Air Quality\n",
    "  * 11,270,028 out of 18,368,364 (9,478 * 323 * 6)\n",
    "* Madrid Air Quality\n",
    "  * 8,036,759 out of 21,587,328 (64,248 * 24 * 14)"
   ]
  },
  {
   "cell_type": "code",
   "execution_count": 12,
   "metadata": {
    "jupyter": {
     "source_hidden": true
    }
   },
   "outputs": [],
   "source": [
    "# beijing_df = pd.read_csv('../../Data/air_quality/BeijingAirQuality/beijing.tensor', delimiter='\\t', header=None)\n",
    "korea_df = pd.read_csv('../../Data/air_quality/KoreaAirQuality/korea_airquality.tensor', delimiter='\\t', header=None)\n",
    "# madrid_df = pd.read_csv('../../Data/air_quality/MadridAirQuality/1hour_madrid.tensor', delimiter='\\t', header=None)"
   ]
  },
  {
   "cell_type": "code",
   "execution_count": 13,
   "metadata": {
    "jupyter": {
     "source_hidden": true
    }
   },
   "outputs": [],
   "source": [
    "def get_tensor(df):\n",
    "    start = time.time()\n",
    "\n",
    "    dims = df[[0,1,2]].max()+1\n",
    "    tensor = np.empty(dims) * np.nan\n",
    "    tensor.shape\n",
    "\n",
    "    for i, row in df.iterrows():\n",
    "        indices = [[index] for index in np.int64(np.asarray(row[:-1]))]\n",
    "        tensor[tuple(indices)] = np.double(row[3])\n",
    "\n",
    "    avg = []\n",
    "    for i in range(tensor.shape[2]):\n",
    "        avg.append(np.nanmean(tensor[:,:,i]))\n",
    "    inds = np.where(np.isnan(tensor))\n",
    "    for ind in zip(inds[0], inds[1], inds[2]):\n",
    "        tensor[ind] = avg[ind[-1]]\n",
    "        \n",
    "    print(time.time() - start)\n",
    "    return tensor"
   ]
  },
  {
   "cell_type": "code",
   "execution_count": 14,
   "metadata": {
    "jupyter": {
     "source_hidden": true
    },
    "scrolled": true
   },
   "outputs": [
    {
     "name": "stdout",
     "output_type": "stream",
     "text": [
      "1669.1081686019897\n"
     ]
    }
   ],
   "source": [
    "# beijing_tensor = get_tensor(beijing_df)\n",
    "korea_tensor = get_tensor(korea_df)\n",
    "# madrid_tensor = get_tensor(madrid_df)"
   ]
  },
  {
   "cell_type": "code",
   "execution_count": 112,
   "metadata": {},
   "outputs": [],
   "source": [
    "with open('results_0127.p', 'wb') as fp:\n",
    "    pickle.dump(results, fp, protocol=pickle.HIGHEST_PROTOCOL)"
   ]
  },
  {
   "cell_type": "markdown",
   "metadata": {},
   "source": [
    "---\n",
    "# Experiment #1"
   ]
  },
  {
   "cell_type": "code",
   "execution_count": null,
   "metadata": {},
   "outputs": [],
   "source": [
    "from online_tensor_decomposition_fcp_abridged06 import *\n",
    "# results = {}"
   ]
  },
  {
   "cell_type": "code",
   "execution_count": null,
   "metadata": {
    "scrolled": true
   },
   "outputs": [],
   "source": [
    "# synthetic\n",
    "(n_iter, ul, ll) = (1, 1.2, 1.1)\n",
    "tensor_stream = create_tensor_stream(synthetic_data, start_to_stream=10, batch_sizes=np.full((99), 10, dtype=int))\n",
    "# results['synthetic-10'] = online_tensor_decomposition('synthetic', synthetic_data, tensor_stream, rank=10, n_iter=n_iter, ul=ul, ll=ll, verbose=False)\n",
    "results['synthetic-20'] = online_tensor_decomposition('synthetic', synthetic_data, tensor_stream, rank=20, n_iter=n_iter, ul=ul, ll=ll, verbose=False)\n",
    "results['synthetic-30'] = online_tensor_decomposition('synthetic', synthetic_data, tensor_stream, rank=30, n_iter=n_iter, ul=ul, ll=ll, verbose=False)\n",
    "results['synthetic-40'] = online_tensor_decomposition('synthetic', synthetic_data, tensor_stream, rank=40, n_iter=n_iter, ul=ul, ll=ll, verbose=False)\n",
    "# results['synthetic-50'] = online_tensor_decomposition('synthetic', synthetic_data, tensor_stream, rank=50, n_iter=n_iter, ul=ul, ll=ll, verbose=False)"
   ]
  },
  {
   "cell_type": "code",
   "execution_count": null,
   "metadata": {
    "scrolled": true
   },
   "outputs": [],
   "source": [
    "datasets = ('synthetic-20', 'synthetic-30', 'synthetic-40')\n",
    "plot_global(datasets, 'E1_synthetic', 35)\n",
    "plot_local(datasets, 'E1_synthetic', 35)"
   ]
  },
  {
   "cell_type": "code",
   "execution_count": null,
   "metadata": {
    "scrolled": true
   },
   "outputs": [],
   "source": [
    "# video\n",
    "(n_iter, ul, ll) = (1, 6, 2)\n",
    "tensor_stream = create_tensor_stream(sample_video, start_to_stream=5, batch_sizes=np.full((40), 5, dtype=int))\n",
    "# results['video-10'] = online_tensor_decomposition('video', sample_video, tensor_stream, rank=10, n_iter=n_iter, ul=ul, ll=ll, verbose=False)\n",
    "results['video-20'] = online_tensor_decomposition('video', sample_video, tensor_stream, rank=20, n_iter=n_iter, ul=ul, ll=ll, verbose=False)\n",
    "results['video-30'] = online_tensor_decomposition('video', sample_video, tensor_stream, rank=30, n_iter=n_iter, ul=ul, ll=ll, verbose=False)\n",
    "results['video-40'] = online_tensor_decomposition('video', sample_video, tensor_stream, rank=40, n_iter=n_iter, ul=ul, ll=ll, verbose=False)\n",
    "# results['video-50'] = online_tensor_decomposition('video', sample_video, tensor_stream, rank=50, n_iter=n_iter, ul=ul, ll=ll, verbose=False)"
   ]
  },
  {
   "cell_type": "code",
   "execution_count": null,
   "metadata": {
    "scrolled": true
   },
   "outputs": [],
   "source": [
    "datasets = ('video-20', 'video-30', 'video-40')\n",
    "plot_global(datasets, 'E1_video', 35)\n",
    "plot_local(datasets, 'E1_video', 35)"
   ]
  },
  {
   "cell_type": "code",
   "execution_count": null,
   "metadata": {
    "scrolled": true
   },
   "outputs": [],
   "source": [
    "# stock\n",
    "(n_iter, ul, ll) = (1, 5, 4.5)\n",
    "tensor_stream = create_tensor_stream(stock2_tensor, start_to_stream=5, batch_sizes=np.full((1028), 3, dtype=int))\n",
    "#results['stock-10'] = online_tensor_decomposition('stock', stock2_tensor, tensor_stream, rank=10, n_iter=n_iter, ul=ul, ll=ll, verbose=False)\n",
    "# results['stock-15'] = online_tensor_decomposition('stock', stock2_tensor, tensor_stream, rank=15, n_iter=n_iter, ul=ul, ll=ll, verbose=False)\n",
    "# results['stock-21'] = online_tensor_decomposition('stock', stock2_tensor, tensor_stream, rank=21, n_iter=n_iter, ul=ul, ll=ll, verbose=False)\n",
    "results['stock-20'] = online_tensor_decomposition('stock', stock2_tensor, tensor_stream, rank=20, n_iter=n_iter, ul=ul, ll=ll, verbose=False)\n",
    "results['stock-22'] = online_tensor_decomposition('stock', stock2_tensor, tensor_stream, rank=22, n_iter=n_iter, ul=ul, ll=ll, verbose=False)\n",
    "results['stock-24'] = online_tensor_decomposition('stock', stock2_tensor, tensor_stream, rank=24, n_iter=n_iter, ul=ul, ll=ll, verbose=False)\n",
    "# results['stock-25'] = online_tensor_decomposition('stock', stock2_tensor, tensor_stream, rank=25, n_iter=n_iter, ul=ul, ll=ll, verbose=False)\n",
    "#results['stock-30'] = online_tensor_decomposition('stock', stock2_tensor, tensor_stream, rank=30, n_iter=n_iter, ul=ul, ll=ll, verbose=False)"
   ]
  },
  {
   "cell_type": "code",
   "execution_count": null,
   "metadata": {
    "scrolled": true
   },
   "outputs": [],
   "source": [
    "datasets = ('stock-20', 'stock-22', 'stock-24')\n",
    "plot_global(datasets, 'E1_stock', 50)\n",
    "plot_local(datasets, 'E1_stock', 45)"
   ]
  },
  {
   "cell_type": "code",
   "execution_count": null,
   "metadata": {
    "scrolled": true
   },
   "outputs": [],
   "source": [
    "# hall\n",
    "(n_iter, ul, ll) = (1, 0.5, 0.1)\n",
    "tensor_stream = create_tensor_stream(hall1_tensor, start_to_stream=10, batch_sizes=np.full((19), 10, dtype=int))\n",
    "# results['hall-10'] = online_tensor_decomposition('hall', hall1_tensor, tensor_stream, rank=15, n_iter=n_iter, ul=ul, ll=ll, verbose=False)\n",
    "# results['hall-15'] = online_tensor_decomposition('hall', hall1_tensor, tensor_stream, rank=20, n_iter=n_iter, ul=ul, ll=ll, verbose=False)\n",
    "# results['hall-20'] = online_tensor_decomposition('hall', hall1_tensor, tensor_stream, rank=20, n_iter=n_iter, ul=ul, ll=ll, verbose=False)\n",
    "# results['hall-25'] = online_tensor_decomposition('hall', hall1_tensor, tensor_stream, rank=25, n_iter=n_iter, ul=ul, ll=ll, verbose=False)\n",
    "results['hall-30'] = online_tensor_decomposition('hall', hall1_tensor, tensor_stream, rank=30, n_iter=n_iter, ul=ul, ll=ll, verbose=False)\n",
    "results['hall-35'] = online_tensor_decomposition('hall', hall1_tensor, tensor_stream, rank=35, n_iter=n_iter, ul=ul, ll=ll, verbose=False)\n",
    "results['hall-40'] = online_tensor_decomposition('hall', hall1_tensor, tensor_stream, rank=40, n_iter=n_iter, ul=ul, ll=ll, verbose=False)\n",
    "#results['hall-45'] = online_tensor_decomposition('hall', hall1_tensor, tensor_stream, rank=45, n_iter=n_iter, ul=ul, ll=ll, verbose=False)"
   ]
  },
  {
   "cell_type": "code",
   "execution_count": null,
   "metadata": {
    "scrolled": true
   },
   "outputs": [],
   "source": [
    "datasets = ('hall-30', 'hall-35', 'hall-40')\n",
    "plot_global(datasets, 'E1_hall', 40)\n",
    "plot_local(datasets, 'E1_hall', 40)"
   ]
  },
  {
   "cell_type": "code",
   "execution_count": null,
   "metadata": {
    "scrolled": true
   },
   "outputs": [],
   "source": [
    "# korea air-quality\n",
    "(n_iter, ul, ll) = (1, 2, 1.3)\n",
    "tensor_stream = create_tensor_stream(korea_tensor, start_to_stream=79, batch_sizes=np.full((94), 100, dtype=int))\n",
    "# results['korea-10'] = online_tensor_decomposition('korea', korea_tensor, tensor_stream, rank=10, n_iter=n_iter, ul=ul, ll=ll, verbose=False)\n",
    "# results['korea-15'] = online_tensor_decomposition('korea', korea_tensor, tensor_stream, rank=15, n_iter=n_iter, ul=ul, ll=ll, verbose=False)\n",
    "# results['korea-20'] = online_tensor_decomposition('korea', korea_tensor, tensor_stream, rank=20, n_iter=n_iter, ul=ul, ll=ll, verbose=False)\n",
    "# results['korea-25'] = online_tensor_decomposition('korea', korea_tensor, tensor_stream, rank=25, n_iter=n_iter, ul=ul, ll=ll, verbose=False)\n",
    "results['korea-30'] = online_tensor_decomposition('korea', korea_tensor, tensor_stream, rank=30, n_iter=n_iter, ul=ul, ll=ll, verbose=False)\n",
    "results['korea-40'] = online_tensor_decomposition('korea', korea_tensor, tensor_stream, rank=40, n_iter=n_iter, ul=ul, ll=ll, verbose=False)\n",
    "results['korea-50'] = online_tensor_decomposition('korea', korea_tensor, tensor_stream, rank=50, n_iter=n_iter, ul=ul, ll=ll, verbose=False)"
   ]
  },
  {
   "cell_type": "code",
   "execution_count": null,
   "metadata": {
    "scrolled": true
   },
   "outputs": [],
   "source": [
    "datasets = ('korea-30', 'korea-40', 'korea-50')\n",
    "plot_global(datasets, 'E1_korea', 35)\n",
    "plot_local(datasets, 'E1_korea', 35)"
   ]
  },
  {
   "cell_type": "markdown",
   "metadata": {
    "jupyter": {
     "source_hidden": true
    }
   },
   "source": [
    "---\n",
    "# Experiment #2"
   ]
  },
  {
   "cell_type": "code",
   "execution_count": 30,
   "metadata": {
    "collapsed": true,
    "jupyter": {
     "outputs_hidden": true,
     "source_hidden": true
    }
   },
   "outputs": [
    {
     "data": {
      "image/png": "[encoded data removed]",
      "text/plain": [
       "<Figure size 900x600 with 2 Axes>"
      ]
     },
     "metadata": {
      "needs_background": "light"
     },
     "output_type": "display_data"
    }
   ],
   "source": [
    "from matplotlib import colors\n",
    "def make_rgb_transparent(color, alpha=0.6, bg_rgb=(1,1,1)):\n",
    "    rgb = colors.colorConverter.to_rgb(color)\n",
    "    return [alpha * c1 + (1 - alpha) * c2\n",
    "            for (c1, c2) in zip(rgb, bg_rgb)]\n",
    "\n",
    "def plot_mem(datasets, name):\n",
    "    colors = ('dodgerblue','mediumseagreen', 'hotpink', '#fba84a')\n",
    "    libs = (\"dao\", \"dtd\", \"ocp\", 'fcp')\n",
    "    patterns = ( \"\" , \"\\\\\\\\\\\\\\\\\\\\\" , \"////\" , \"xxxx\")\n",
    "    markers = (\"o\", \"x\", \"s\", \"^\", \"4\")\n",
    "    \n",
    "    index = np.arange(5)\n",
    "    bar_width = 0.2\n",
    "\n",
    "    \n",
    "    # create plot\n",
    "    fig, ax1 = plt.subplots(figsize = (6, 4), dpi = 150)\n",
    "    plt.xticks(index + bar_width*1.5, ('Synthetic', 'Video', 'Stock', 'Hall', 'Korea'))\n",
    "    plt.rcParams['hatch.linewidth'] = 0.2\n",
    "\n",
    "    for i, (color, lib) in enumerate(zip(colors, libs)):\n",
    "        mem_list = [results[dataset][lib][4] for dataset in datasets]\n",
    "        \n",
    "        rects1 = ax1.bar(index + bar_width*i, mem_list, bar_width, color=make_rgb_transparent(color, alpha=0.0), label=lib, edgecolor='black', hatch=patterns[i], linewidth=0.5)\n",
    "\n",
    "    ax1.set_xlabel('Datasets')\n",
    "    ax1.set_ylabel('Memory Usage (byte)')\n",
    "    ax1.set_yscale('log')\n",
    "\n",
    "    ax2 = ax1.twinx()  # instantiate a second axes that shares the same x-axis\n",
    "\n",
    "    for i, (color, lib) in enumerate(zip(colors, libs)):\n",
    "        acc_list = [results[dataset][lib][0] for dataset in datasets]\n",
    "        for j, acc in enumerate(acc_list):\n",
    "            if j == 4:\n",
    "                ax2.scatter(index[j] + bar_width*i, acc, 70, color=colors[i], marker=markers[j], linewidth=2)\n",
    "            elif j == 1: \n",
    "                ax2.scatter(index[j] + bar_width*i, acc, 50, color=colors[i], marker=markers[j], linewidth=2)\n",
    "            else:\n",
    "                ax2.scatter(index[j] + bar_width*i, acc, 50, color=colors[i], marker=markers[j], facecolors='none', linewidth=2)\n",
    "    ax2.tick_params(axis='y')\n",
    "\n",
    "    ax2.set_ylabel('Global Fitness', rotation=270, labelpad=15)\n",
    "\n",
    "    fig.tight_layout()  # otherwise the right y-label is slightly clipped\n",
    "    plt.show()\n",
    "#     plt.savefig(f'./plots/{name}_mem.pdf', bbox_inches = 'tight', pad_inches = 0)\n",
    "plot_mem(('synthetic-30', 'video-30', 'stock-20', 'hall-30', 'korea-40'), 'E2')"
   ]
  },
  {
   "cell_type": "code",
   "execution_count": 34,
   "metadata": {
    "collapsed": true,
    "jupyter": {
     "outputs_hidden": true,
     "source_hidden": true
    }
   },
   "outputs": [
    {
     "name": "stdout",
     "output_type": "stream",
     "text": [
      "[199424, 744488, 557472, 469496, 2024776]\n",
      "[270160, 320800, 541736, 202696, 3244936]\n",
      "[2717056, 94372576, 114616, 892536, 10744216]\n",
      "[24000232, 377856232, 17298616, 20275416, 146962632]\n",
      "[120.34776155327343, 507.53837805310496, 31.030466104127203, 43.18549252815785, 72.5821681015579]\n"
     ]
    },
    {
     "data": {
      "image/png": "[encoded data removed]",
      "text/plain": [
       "<Figure size 900x600 with 2 Axes>"
      ]
     },
     "metadata": {
      "needs_background": "light"
     },
     "output_type": "display_data"
    }
   ],
   "source": [
    "from matplotlib import colors\n",
    "def make_rgb_transparent(color, alpha=0.6, bg_rgb=(1,1,1)):\n",
    "    rgb = colors.colorConverter.to_rgb(color)\n",
    "    return [alpha * c1 + (1 - alpha) * c2\n",
    "            for (c1, c2) in zip(rgb, bg_rgb)]\n",
    "\n",
    "def plot_mem(datasets, name):\n",
    "    colors = ('dodgerblue','mediumseagreen', 'hotpink', '#fba84a')\n",
    "    libs = (\"dao\", \"dtd\", \"ocp\", 'fcp')\n",
    "    patterns = ( \"\" , \"\\\\\\\\\\\\\\\\\\\\\" , \"////\" , \"xxxx\")\n",
    "    markers = (\"o\", \"x\", \"s\", \"^\", \"4\")\n",
    "    \n",
    "    index = np.arange(5)\n",
    "    bar_width = 0.2\n",
    "\n",
    "    \n",
    "    # create plot\n",
    "    fig, ax1 = plt.subplots(figsize = (6, 4), dpi = 150)\n",
    "    plt.xticks(index + bar_width*1.5, ('Synthetic', 'Video', 'Stock', 'Hall', 'Korea'))\n",
    "    plt.rcParams['hatch.linewidth'] = 0.2\n",
    "\n",
    "    for i, (color, lib) in enumerate(zip(colors, libs)):\n",
    "        mem_list = [results[dataset][lib][4] for dataset in datasets]\n",
    "        print(mem_list)\n",
    "        \n",
    "        rects1 = ax1.bar(index + bar_width*i, mem_list, bar_width, color=make_rgb_transparent(color, alpha=0.7), label=lib, edgecolor='black', hatch=patterns[i], linewidth=0.5)\n",
    "\n",
    "    ax1.set_xlabel('Datasets')\n",
    "    ax1.set_ylabel('Memory Usage (byte)')\n",
    "    ax1.set_yscale('log')\n",
    "\n",
    "    ax2 = ax1.twinx()  # instantiate a second axes that shares the same x-axis\n",
    "\n",
    "    for i, dataset in enumerate(datasets):\n",
    "        acc_list = [results[dataset][lib][0] for lib in libs]   \n",
    "        ax2.plot(i + bar_width*index[:4], acc_list, marker=\"o\", color='black', zorder=1)\n",
    "    for i, (color, lib) in enumerate(zip(colors, libs)):\n",
    "        acc_list = [results[dataset][lib][0] for dataset in datasets]        \n",
    "        ax2.scatter(index + bar_width*i, acc_list, 30, color='black', marker=\"o\", facecolor=colors[i], linewidth=1.3, zorder=2)\n",
    "    ax2.tick_params(axis='y')\n",
    "\n",
    "    ax2.set_ylabel('Global Fitness', rotation=270, labelpad=13)\n",
    "\n",
    "    fig.tight_layout()  # otherwise the right y-label is slightly clipped\n",
    "#     plt.show()\n",
    "    plt.savefig(f'./plots/{name}_mem.svg', bbox_inches = 'tight', pad_inches = 0)\n",
    "    \n",
    "    print([results[dataset]['fcp'][4]/results[dataset]['dao'][4] for dataset in datasets])\n",
    "plot_mem(('synthetic-30', 'video-30', 'stock-20', 'hall-30', 'korea-40'), 'E2')\n",
    "\n"
   ]
  },
  {
   "cell_type": "markdown",
   "metadata": {},
   "source": [
    "---\n",
    "# Experiment #5"
   ]
  },
  {
   "cell_type": "code",
   "execution_count": null,
   "metadata": {},
   "outputs": [
    {
     "name": "stdout",
     "output_type": "stream",
     "text": [
      "-----------------------------------\n",
      "making init decomposition result: 17.765308618545532\n",
      "\n",
      " >> dao rank-30 n_iter-1\n",
      "||A-B||: 114629.64851387283\n",
      "split: 3 refine: 9\n",
      "global fitness 0.871577861329208\n",
      "local fitness 0.8831714078398146\n",
      "global running time 99.2627158164978\n",
      "local running time 0.5227413535118103\n",
      "memory usage 744488\n",
      "-----------------------------------\n",
      "making init decomposition result: 18.624435424804688\n",
      "\n",
      " >> dtd rank-30 n_iter-1\n"
     ]
    }
   ],
   "source": [
    "from online_tensor_decomposition_fcp01 import *\n",
    "results = {}\n",
    "\n",
    "(n_iter, ul, ll) = (1, 6, 2)\n",
    "tensor_stream = create_tensor_stream(sample_video, start_to_stream=5, batch_sizes=np.full((40), 5, dtype=int))\n",
    "results['video'] = online_tensor_decomposition('video', sample_video, tensor_stream, rank=30, n_iter=n_iter, ul=ul, ll=ll, verbose=False)"
   ]
  },
  {
   "cell_type": "code",
   "execution_count": null,
   "metadata": {},
   "outputs": [],
   "source": [
    "def plot_E5_error(dataset):\n",
    "    \n",
    "    markers = (\"+\", \"x\", \"1\", \"2\")\n",
    "    colors = ('dodgerblue','mediumseagreen', 'hotpink', 'black')\n",
    "    libs = (\"dao\", \"dtd\", \"ocp\", \"fcp\")\n",
    "    fig = plt.figure(figsize = (7, 3), dpi = 150,) \n",
    "    plt.ylabel('Local Error Norm', fontsize=12)\n",
    "    plt.xlabel('# of Stacked Slices', fontsize=12)\n",
    "    #         ax1.xaxis.set_label_position('top')\n",
    "    \n",
    "    \n",
    "    split_points, refine_points = results[dataset]['dao'][6]\n",
    "    for p in refine_points:\n",
    "        plt.axvline(p,  label='line: {}'.format(p), c='lightgray', linewidth=2, linestyle='--')\n",
    "    for p in split_points:\n",
    "        plt.axvline(p,  label='line: {}'.format(p), c='lightgray', linewidth=2, linestyle='-')\n",
    "    \n",
    "    for color, marker, lib in zip(colors, markers, libs):\n",
    "        verbose_list = results[dataset][lib][5]\n",
    "        plt.plot(verbose_list[:,0], verbose_list[:,2], linewidth=1, marker=marker, color=color)\n",
    "    plt.savefig('plots/E5_{}_error.pdf'.format(dataset), bbox_inches='tight', pad_inches=0)\n",
    "    \n",
    "plot_E5_error('video')\n",
    "    \n",
    "def plot_E5_rt(dataset):\n",
    "    markers = (\"+\", \"x\", \"1\", \"2\")\n",
    "    colors = ('dodgerblue','mediumseagreen', 'hotpink', 'black')\n",
    "    libs = (\"dao\", \"dtd\", \"ocp\", \"fcp\")\n",
    "    plt.figure(figsize = (7, 3), dpi = 150,) \n",
    "    \n",
    "#     plt.yscale('log')\n",
    "    plt.ylabel('Local Running Time (s)', fontsize=12)\n",
    "    plt.xlabel('# of Stacked Slices', fontsize=12)\n",
    "    #         ax1.xaxis.set_label_position('top')\n",
    "    \n",
    "    \n",
    "    split_points, refine_points = results[dataset]['dao'][6]\n",
    "    for p in refine_points:\n",
    "        plt.axvline(p,  label='line: {}'.format(p), c='lightgray', linewidth=2, linestyle='--')\n",
    "    for p in split_points:\n",
    "        plt.axvline(p,  label='line: {}'.format(p), c='lightgray', linewidth=2, linestyle='-')\n",
    "    \n",
    "    for color, marker, lib in zip(colors, markers, libs):\n",
    "        verbose_list = results[dataset][lib][5]\n",
    "        plt.plot(verbose_list[:,0], verbose_list[:,1], linewidth=1, marker=marker, color=color)\n",
    "        plt.savefig('plots/E5_{}_rt.pdf'.format(dataset), bbox_inches='tight', pad_inches=0)\n",
    "        \n",
    "plot_E5_rt('video')"
   ]
  },
  {
   "cell_type": "markdown",
   "metadata": {},
   "source": [
    "---\n",
    "# Experiment #3"
   ]
  },
  {
   "cell_type": "code",
   "execution_count": 32,
   "metadata": {},
   "outputs": [
    {
     "name": "stdout",
     "output_type": "stream",
     "text": [
      "-----------------------------------\n",
      "making init decomposition result: 3.9404895305633545\n",
      "\n",
      " >> dao rank-20 n_iter-1\n",
      "||A-B||: 19400.89340500859\n",
      "split: 0 refine: 0\n",
      "global fitness 0.8045094971008745\n",
      "local fitness 0.8065634808944361\n",
      "global running time 16.136921405792236\n",
      "local running time 0.06728915965303461\n",
      "memory usage 1649624\n"
     ]
    }
   ],
   "source": [
    "tensor_stream = create_tensor_stream(korea_tensor, start_to_stream=79, batch_sizes=np.full((94), 100, dtype=int))\n",
    "results['korea--'] = online_tensor_decomposition('korea', korea_tensor, tensor_stream, rank=20, methods=['dao'], n_iter=n_iter, ul=-1, ll=-1, verbose=False)"
   ]
  },
  {
   "cell_type": "code",
   "execution_count": 33,
   "metadata": {
    "scrolled": true
   },
   "outputs": [
    {
     "name": "stdout",
     "output_type": "stream",
     "text": [
      "-----------------------------------\n",
      "making init decomposition result: 5.870425701141357\n",
      "\n",
      " >> dao rank-20 n_iter-1\n",
      "||A-B||: 12327.792981219713\n",
      "split: 65 refine: 0\n",
      "global fitness 0.8757806458071262\n",
      "local fitness 0.8834240071437058\n",
      "global running time 393.6670153141022\n",
      "local running time 0.023010649579636593\n",
      "memory usage 277528\n",
      "-----------------------------------\n",
      "making init decomposition result: 4.836164712905884\n",
      "\n",
      " >> dao rank-20 n_iter-1\n",
      "||A-B||: 13826.790361131174\n",
      "split: 49 refine: 0\n",
      "global fitness 0.8606761995568463\n",
      "local fitness 0.8677862598472321\n",
      "global running time 292.6102774143219\n",
      "local running time 0.02988041969055825\n",
      "memory usage 405416\n",
      "-----------------------------------\n",
      "making init decomposition result: 4.468388319015503\n",
      "\n",
      " >> dao rank-20 n_iter-1\n",
      "||A-B||: 14114.952710966421\n",
      "split: 45 refine: 0\n",
      "global fitness 0.85777257024917\n",
      "local fitness 0.8646404078538295\n",
      "global running time 273.09932470321655\n",
      "local running time 0.03360834020249387\n",
      "memory usage 405320\n",
      "-----------------------------------\n",
      "making init decomposition result: 4.528565406799316\n",
      "\n",
      " >> dao rank-20 n_iter-1\n",
      "||A-B||: 14658.062612279982\n",
      "split: 36 refine: 0\n",
      "global fitness 0.8522999960990604\n",
      "local fitness 0.8570633713725244\n",
      "global running time 222.25759840011597\n",
      "local running time 0.047719785507689134\n",
      "memory usage 405320\n",
      "-----------------------------------\n",
      "making init decomposition result: 5.29126763343811\n",
      "\n",
      " >> dao rank-20 n_iter-1\n",
      "||A-B||: 17564.532290270745\n",
      "split: 14 refine: 0\n",
      "global fitness 0.8230133438222745\n",
      "local fitness 0.8196443032466227\n",
      "global running time 91.88044142723083\n",
      "local running time 0.059310897867730326\n",
      "memory usage 949080\n"
     ]
    }
   ],
   "source": [
    "# korea air-quality\n",
    "tensor_stream = create_tensor_stream(korea_tensor, start_to_stream=79, batch_sizes=np.full((94), 100, dtype=int))\n",
    "results['korea-split-1.0'] = online_tensor_decomposition('korea', korea_tensor, tensor_stream, rank=20, methods=['dao'], n_iter=n_iter, ul=1.0, ll=-1, verbose=False) # 65\n",
    "results['korea-split-1.2'] = online_tensor_decomposition('korea', korea_tensor, tensor_stream, rank=20, methods=['dao'], n_iter=n_iter, ul=1.2, ll=-1, verbose=False) # 57\n",
    "results['korea-split-1.4'] = online_tensor_decomposition('korea', korea_tensor, tensor_stream, rank=20, methods=['dao'], n_iter=n_iter, ul=1.4, ll=-1, verbose=False) # 45\n",
    "results['korea-split-1.6'] = online_tensor_decomposition('korea', korea_tensor, tensor_stream, rank=20, methods=['dao'], n_iter=n_iter, ul=1.6, ll=-1, verbose=False) # 36\n",
    "results['korea-split-1.8'] = online_tensor_decomposition('korea', korea_tensor, tensor_stream, rank=20, methods=['dao'], n_iter=n_iter, ul=1.8, ll=-1, verbose=False) # 5"
   ]
  },
  {
   "cell_type": "code",
   "execution_count": 34,
   "metadata": {
    "scrolled": true
   },
   "outputs": [
    {
     "name": "stdout",
     "output_type": "stream",
     "text": [
      "-----------------------------------\n",
      "making init decomposition result: 3.938455820083618\n",
      "\n",
      " >> dao rank-20 n_iter-1\n",
      "||A-B||: 19147.808655917954\n",
      "split: 0 refine: 16\n",
      "global fitness 0.8070596716646425\n",
      "local fitness 0.8091856567637306\n",
      "global running time 18.061325550079346\n",
      "local running time 0.09100013844510342\n",
      "memory usage 2082904\n",
      "-----------------------------------\n",
      "making init decomposition result: 5.087310791015625\n",
      "\n",
      " >> dao rank-20 n_iter-1\n",
      "||A-B||: 19179.962935910862\n",
      "split: 0 refine: 12\n",
      "global fitness 0.8067356733705975\n",
      "local fitness 0.8084551818322515\n",
      "global running time 19.628258228302002\n",
      "local running time 0.09365169799074213\n",
      "memory usage 2082904\n",
      "-----------------------------------\n",
      "making init decomposition result: 5.71547532081604\n",
      "\n",
      " >> dao rank-20 n_iter-1\n",
      "||A-B||: 19174.00470538636\n",
      "split: 0 refine: 9\n",
      "global fitness 0.8067957106821433\n",
      "local fitness 0.8083360426982881\n",
      "global running time 18.084320068359375\n",
      "local running time 0.06936203926167589\n",
      "memory usage 1954904\n",
      "-----------------------------------\n",
      "making init decomposition result: 4.701607704162598\n",
      "\n",
      " >> dao rank-20 n_iter-1\n",
      "||A-B||: 19144.174899577316\n",
      "split: 0 refine: 9\n",
      "global fitness 0.8070962867235274\n",
      "local fitness 0.8083620979182062\n",
      "global running time 18.9666645526886\n",
      "local running time 0.08498305970049919\n",
      "memory usage 1698904\n",
      "-----------------------------------\n",
      "making init decomposition result: 5.5415472984313965\n",
      "\n",
      " >> dao rank-20 n_iter-1\n",
      "||A-B||: 19169.254548658726\n",
      "split: 0 refine: 6\n",
      "global fitness 0.806843574999943\n",
      "local fitness 0.8073785228846364\n",
      "global running time 19.07719373703003\n",
      "local running time 0.07879700559250852\n",
      "memory usage 1698904\n"
     ]
    }
   ],
   "source": [
    "# korea air-quality\n",
    "tensor_stream = create_tensor_stream(korea_tensor, start_to_stream=79, batch_sizes=np.full((94), 100, dtype=int))\n",
    "results['korea-refine-1.4'] = online_tensor_decomposition('korea', korea_tensor, tensor_stream, rank=20, methods=['dao'], n_iter=n_iter, ul=-1, ll=1.4, verbose=False) # 15\n",
    "results['korea-refine-1.6'] = online_tensor_decomposition('korea', korea_tensor, tensor_stream, rank=20, methods=['dao'], n_iter=n_iter, ul=-1, ll=1.6, verbose=False) # 14\n",
    "results['korea-refine-1.8'] = online_tensor_decomposition('korea', korea_tensor, tensor_stream, rank=20, methods=['dao'], n_iter=n_iter, ul=-1, ll=1.8, verbose=False) # 12\n",
    "results['korea-refine-2.0'] = online_tensor_decomposition('korea', korea_tensor, tensor_stream, rank=20, methods=['dao'], n_iter=n_iter, ul=-1, ll=2.0, verbose=False) # 8\n",
    "results['korea-refine-2.2'] = online_tensor_decomposition('korea', korea_tensor, tensor_stream, rank=20, methods=['dao'], n_iter=n_iter, ul=-1, ll=2.2, verbose=False) # 6"
   ]
  },
  {
   "cell_type": "code",
   "execution_count": null,
   "metadata": {
    "scrolled": true
   },
   "outputs": [],
   "source": [
    "for dataset in ('korea-split-1.0', 'korea-split-1.2', 'korea-split-1.4', 'korea-split-1.6', 'korea-split-1.8'):\n",
    "    plot_E5(dataset)\n",
    "for dataset in ('korea-refine-1.4', 'korea-refine-1.6', 'korea-refine-1.8', 'korea-refine-2.0', 'korea-refine-2.2'):\n",
    "    plot_E5(dataset)"
   ]
  },
  {
   "cell_type": "code",
   "execution_count": 35,
   "metadata": {},
   "outputs": [
    {
     "data": {
      "text/html": [
       "<div>\n",
       "<style scoped>\n",
       "    .dataframe tbody tr th:only-of-type {\n",
       "        vertical-align: middle;\n",
       "    }\n",
       "\n",
       "    .dataframe tbody tr th {\n",
       "        vertical-align: top;\n",
       "    }\n",
       "\n",
       "    .dataframe thead th {\n",
       "        text-align: right;\n",
       "    }\n",
       "</style>\n",
       "<table border=\"1\" class=\"dataframe\">\n",
       "  <thead>\n",
       "    <tr style=\"text-align: right;\">\n",
       "      <th></th>\n",
       "      <th>dataset</th>\n",
       "      <th>process</th>\n",
       "      <th>ul</th>\n",
       "      <th>ll</th>\n",
       "      <th>points-#</th>\n",
       "      <th>global-fit</th>\n",
       "      <th>local-fit</th>\n",
       "      <th>global-rt</th>\n",
       "      <th>local-rt</th>\n",
       "      <th>mem</th>\n",
       "    </tr>\n",
       "  </thead>\n",
       "  <tbody>\n",
       "    <tr>\n",
       "      <th>0</th>\n",
       "      <td>korea</td>\n",
       "      <td>split</td>\n",
       "      <td>1.0</td>\n",
       "      <td>-</td>\n",
       "      <td>65</td>\n",
       "      <td>0.875781</td>\n",
       "      <td>0.883424</td>\n",
       "      <td>393.667015</td>\n",
       "      <td>0.023011</td>\n",
       "      <td>277528</td>\n",
       "    </tr>\n",
       "    <tr>\n",
       "      <th>1</th>\n",
       "      <td>korea</td>\n",
       "      <td>split</td>\n",
       "      <td>1.2</td>\n",
       "      <td>-</td>\n",
       "      <td>49</td>\n",
       "      <td>0.860676</td>\n",
       "      <td>0.867786</td>\n",
       "      <td>292.610277</td>\n",
       "      <td>0.029880</td>\n",
       "      <td>405416</td>\n",
       "    </tr>\n",
       "    <tr>\n",
       "      <th>2</th>\n",
       "      <td>korea</td>\n",
       "      <td>split</td>\n",
       "      <td>1.4</td>\n",
       "      <td>-</td>\n",
       "      <td>45</td>\n",
       "      <td>0.857773</td>\n",
       "      <td>0.864640</td>\n",
       "      <td>273.099325</td>\n",
       "      <td>0.033608</td>\n",
       "      <td>405320</td>\n",
       "    </tr>\n",
       "    <tr>\n",
       "      <th>3</th>\n",
       "      <td>korea</td>\n",
       "      <td>split</td>\n",
       "      <td>1.6</td>\n",
       "      <td>-</td>\n",
       "      <td>36</td>\n",
       "      <td>0.852300</td>\n",
       "      <td>0.857063</td>\n",
       "      <td>222.257598</td>\n",
       "      <td>0.047720</td>\n",
       "      <td>405320</td>\n",
       "    </tr>\n",
       "    <tr>\n",
       "      <th>4</th>\n",
       "      <td>korea</td>\n",
       "      <td>split</td>\n",
       "      <td>1.8</td>\n",
       "      <td>-</td>\n",
       "      <td>14</td>\n",
       "      <td>0.823013</td>\n",
       "      <td>0.819644</td>\n",
       "      <td>91.880441</td>\n",
       "      <td>0.059311</td>\n",
       "      <td>949080</td>\n",
       "    </tr>\n",
       "    <tr>\n",
       "      <th>5</th>\n",
       "      <td>korea</td>\n",
       "      <td>refine</td>\n",
       "      <td>-</td>\n",
       "      <td>1.4</td>\n",
       "      <td>16</td>\n",
       "      <td>0.807060</td>\n",
       "      <td>0.809186</td>\n",
       "      <td>18.061326</td>\n",
       "      <td>0.091000</td>\n",
       "      <td>2082904</td>\n",
       "    </tr>\n",
       "    <tr>\n",
       "      <th>6</th>\n",
       "      <td>korea</td>\n",
       "      <td>refine</td>\n",
       "      <td>-</td>\n",
       "      <td>1.6</td>\n",
       "      <td>12</td>\n",
       "      <td>0.806736</td>\n",
       "      <td>0.808455</td>\n",
       "      <td>19.628258</td>\n",
       "      <td>0.093652</td>\n",
       "      <td>2082904</td>\n",
       "    </tr>\n",
       "    <tr>\n",
       "      <th>7</th>\n",
       "      <td>korea</td>\n",
       "      <td>refine</td>\n",
       "      <td>-</td>\n",
       "      <td>1.8</td>\n",
       "      <td>9</td>\n",
       "      <td>0.806796</td>\n",
       "      <td>0.808336</td>\n",
       "      <td>18.084320</td>\n",
       "      <td>0.069362</td>\n",
       "      <td>1954904</td>\n",
       "    </tr>\n",
       "    <tr>\n",
       "      <th>8</th>\n",
       "      <td>korea</td>\n",
       "      <td>refine</td>\n",
       "      <td>-</td>\n",
       "      <td>2.0</td>\n",
       "      <td>9</td>\n",
       "      <td>0.807096</td>\n",
       "      <td>0.808362</td>\n",
       "      <td>18.966665</td>\n",
       "      <td>0.084983</td>\n",
       "      <td>1698904</td>\n",
       "    </tr>\n",
       "    <tr>\n",
       "      <th>9</th>\n",
       "      <td>korea</td>\n",
       "      <td>refine</td>\n",
       "      <td>-</td>\n",
       "      <td>2.2</td>\n",
       "      <td>6</td>\n",
       "      <td>0.806844</td>\n",
       "      <td>0.807379</td>\n",
       "      <td>19.077194</td>\n",
       "      <td>0.078797</td>\n",
       "      <td>1698904</td>\n",
       "    </tr>\n",
       "    <tr>\n",
       "      <th>10</th>\n",
       "      <td>korea</td>\n",
       "      <td>-</td>\n",
       "      <td>-</td>\n",
       "      <td>-</td>\n",
       "      <td>0</td>\n",
       "      <td>0.804509</td>\n",
       "      <td>0.806563</td>\n",
       "      <td>16.136921</td>\n",
       "      <td>0.067289</td>\n",
       "      <td>1649624</td>\n",
       "    </tr>\n",
       "  </tbody>\n",
       "</table>\n",
       "</div>"
      ],
      "text/plain": [
       "   dataset process   ul   ll  points-#  global-fit  local-fit   global-rt  \\\n",
       "0    korea   split  1.0    -        65    0.875781   0.883424  393.667015   \n",
       "1    korea   split  1.2    -        49    0.860676   0.867786  292.610277   \n",
       "2    korea   split  1.4    -        45    0.857773   0.864640  273.099325   \n",
       "3    korea   split  1.6    -        36    0.852300   0.857063  222.257598   \n",
       "4    korea   split  1.8    -        14    0.823013   0.819644   91.880441   \n",
       "5    korea  refine    -  1.4        16    0.807060   0.809186   18.061326   \n",
       "6    korea  refine    -  1.6        12    0.806736   0.808455   19.628258   \n",
       "7    korea  refine    -  1.8         9    0.806796   0.808336   18.084320   \n",
       "8    korea  refine    -  2.0         9    0.807096   0.808362   18.966665   \n",
       "9    korea  refine    -  2.2         6    0.806844   0.807379   19.077194   \n",
       "10   korea       -    -    -         0    0.804509   0.806563   16.136921   \n",
       "\n",
       "    local-rt      mem  \n",
       "0   0.023011   277528  \n",
       "1   0.029880   405416  \n",
       "2   0.033608   405320  \n",
       "3   0.047720   405320  \n",
       "4   0.059311   949080  \n",
       "5   0.091000  2082904  \n",
       "6   0.093652  2082904  \n",
       "7   0.069362  1954904  \n",
       "8   0.084983  1698904  \n",
       "9   0.078797  1698904  \n",
       "10  0.067289  1649624  "
      ]
     },
     "execution_count": 35,
     "metadata": {},
     "output_type": "execute_result"
    }
   ],
   "source": [
    "rows = []\n",
    "for dataset in ('korea-split-1.0', 'korea-split-1.2', 'korea-split-1.4', 'korea-split-1.6', 'korea-split-1.8'):\n",
    "    row = dataset.split('-')\n",
    "    row.append('-')\n",
    "    verbose_list = results[dataset]['dao'][5]\n",
    "    split_points, refine_points = results[dataset]['dao'][6]\n",
    "    row.append(len(split_points))\n",
    "    row += results[dataset]['dao'][:5]\n",
    "    rows.append(row)\n",
    "    \n",
    "for dataset in ('korea-refine-1.4', 'korea-refine-1.6', 'korea-refine-1.8', 'korea-refine-2.0', 'korea-refine-2.2'):\n",
    "    row = dataset.split('-')[:-1]\n",
    "    row.append('-')\n",
    "    row.append(dataset.split('-')[-1])\n",
    "    verbose_list = results[dataset]['dao'][5]\n",
    "    split_points, refine_points = results[dataset]['dao'][6]\n",
    "    row.append(len(refine_points))\n",
    "    row += results[dataset]['dao'][:5]\n",
    "    rows.append(row)\n",
    "    \n",
    "dataset = 'korea--'\n",
    "row = dataset.split('-')[:1]\n",
    "row += ['-'] * 3\n",
    "verbose_list = results[dataset]['dao'][5]\n",
    "split_points, refine_points = results[dataset]['dao'][6]\n",
    "row.append(len(refine_points))\n",
    "row += results[dataset]['dao'][:5]\n",
    "rows.append(row)\n",
    "    \n",
    "df = pd.DataFrame(rows, columns=['dataset', 'process', 'ul', 'll', 'points-#', 'global-fit', 'local-fit', 'global-rt', 'local-rt', 'mem'])\n",
    "df"
   ]
  },
  {
   "cell_type": "markdown",
   "metadata": {},
   "source": [
    "---\n",
    "# Experiment #4"
   ]
  },
  {
   "cell_type": "code",
   "execution_count": null,
   "metadata": {
    "scrolled": true
   },
   "outputs": [],
   "source": [
    "# hall\n",
    "(n_iter, ul, ll) = (1, 0.5, 0.1)\n",
    "tensor_stream = create_tensor_stream(hall1_tensor, start_to_stream=10, batch_sizes=np.full((19), 10, dtype=int))\n",
    "results['hall'] = online_tensor_decomposition('hall', hall1_tensor, tensor_stream, rank=100, n_iter=n_iter, ul=ul, ll=ll, verbose=False)"
   ]
  },
  {
   "cell_type": "code",
   "execution_count": null,
   "metadata": {},
   "outputs": [],
   "source": [
    "frame = results['hall']['dao'][6][0][10]*10\n",
    "for lib in (\"dao\", \"dtd\", \"ocp\", 'fcp'):\n",
    "    make_video(results['hall'][lib][-1], f'plots/E4-hall-{lib}.avi', False)\n",
    "    imwrite(f'plots/E4-hall-{lib}-{frame}.jpg', results['hall'][lib][-1][frame])\n",
    "make_video(hall1_tensor, 'plots/E4-hall-org.avi', False)\n",
    "imwrite(f'plots/E4-hall-org-{frame}.jpg', hall1_tensor[frame])"
   ]
  },
  {
   "cell_type": "code",
   "execution_count": null,
   "metadata": {
    "scrolled": true
   },
   "outputs": [],
   "source": [
    "# video\n",
    "(n_iter, ul, ll) = (1, 6, 2)\n",
    "tensor_stream = create_tensor_stream(sample_video, start_to_stream=5, batch_sizes=np.full((40), 5, dtype=int))\n",
    "results['video'] = online_tensor_decomposition('video', sample_video, tensor_stream, rank=100, n_iter=n_iter, ul=ul, ll=ll, verbose=False)"
   ]
  },
  {
   "cell_type": "code",
   "execution_count": null,
   "metadata": {},
   "outputs": [],
   "source": [
    "frame = results['video']['dao'][6][0][0]*5\n",
    "for lib in (\"dao\", \"dtd\", \"ocp\", 'fcp'):\n",
    "    make_video(results['video'][lib][-1], f'plots/E4-video-{lib}.avi')\n",
    "    imwrite(f'plots/E4-video-{lib}-{frame}.jpg', results['video'][lib][-1][frame])\n",
    "make_video(sample_video, 'plots/E4-video-org.avi')\n",
    "imwrite(f'plots/E4-video-org-{frame}.jpg', sample_video[frame])"
   ]
  }
 ],
 "metadata": {
  "kernelspec": {
   "display_name": "Python 3",
   "language": "python",
   "name": "python3"
  },
  "language_info": {
   "codemirror_mode": {
    "name": "ipython",
    "version": 3
   },
   "file_extension": ".py",
   "mimetype": "text/x-python",
   "name": "python",
   "nbconvert_exporter": "python",
   "pygments_lexer": "ipython3",
   "version": "3.8.3"
  }
 },
 "nbformat": 4,
 "nbformat_minor": 4
}
