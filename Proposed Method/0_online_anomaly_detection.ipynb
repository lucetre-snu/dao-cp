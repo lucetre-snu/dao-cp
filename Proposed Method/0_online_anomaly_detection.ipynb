{
 "cells": [
  {
   "cell_type": "markdown",
   "metadata": {},
   "source": [
    "### Half-Space Trees\n",
    "* https://scikit-multiflow.github.io/\n",
    "* `pip install -U scikit-multiflow`"
   ]
  },
  {
   "cell_type": "code",
   "execution_count": 42,
   "metadata": {},
   "outputs": [
    {
     "name": "stdout",
     "output_type": "stream",
     "text": [
      "1000 samples analyzed.\n",
      "Half-Space Trees correctly detected 157 out of 220 anomalies\n"
     ]
    }
   ],
   "source": [
    "# Imports\n",
    "from skmultiflow.data import AnomalySineGenerator\n",
    "from skmultiflow.anomaly_detection import HalfSpaceTrees\n",
    "# Setup a data stream\n",
    "stream = AnomalySineGenerator(random_state=1, n_samples=1000, n_anomalies=250)\n",
    "# Setup Half-Space Trees estimator\n",
    "half_space_trees = HalfSpaceTrees(random_state=1)\n",
    "# Setup variables to control loop and track performance\n",
    "max_samples = 1000\n",
    "n_samples = 0\n",
    "true_positives = 0\n",
    "detected_anomalies = 0\n",
    "# Train the estimator(s) with the samples provided by the data stream\n",
    "while n_samples < max_samples and stream.has_more_samples():\n",
    "    X, y = stream.next_sample()\n",
    "    y_pred = half_space_trees.predict(X)\n",
    "    if y[0] == 1:\n",
    "        true_positives += 1\n",
    "        if y_pred[0] == 1:\n",
    "            detected_anomalies += 1\n",
    "    half_space_trees.partial_fit(X, y)\n",
    "    n_samples += 1\n",
    "print('{} samples analyzed.'.format(n_samples))\n",
    "print('Half-Space Trees correctly detected {} out of {} anomalies'.\n",
    "      format(detected_anomalies, true_positives))"
   ]
  },
  {
   "cell_type": "markdown",
   "metadata": {},
   "source": [
    "### Welford Algorithm\n",
    "* https://gist.github.com/alexalemi/2151722"
   ]
  },
  {
   "cell_type": "code",
   "execution_count": 43,
   "metadata": {},
   "outputs": [],
   "source": [
    "import math\n",
    "class Welford(object):\n",
    "    \"\"\" Implements Welford's algorithm for computing a running mean\n",
    "    and standard deviation as described at: \n",
    "        http://www.johndcook.com/standard_deviation.html\n",
    "    can take single values or iterables\n",
    "    Properties:\n",
    "        mean    - returns the mean\n",
    "        std     - returns the std\n",
    "        meanfull- returns the mean and std of the mean\n",
    "    Usage:\n",
    "        >>> foo = Welford()\n",
    "        >>> foo(range(100))\n",
    "        >>> foo\n",
    "        <Welford: 49.5 +- 29.0114919759>\n",
    "        >>> foo([1]*1000)\n",
    "        >>> foo\n",
    "        <Welford: 5.40909090909 +- 16.4437417146>\n",
    "        >>> foo.mean\n",
    "        5.409090909090906\n",
    "        >>> foo.std\n",
    "        16.44374171455467\n",
    "        >>> foo.meanfull\n",
    "        (5.409090909090906, 0.4957974674244838)\n",
    "    \"\"\"\n",
    "\n",
    "    def __init__(self,lst=None):\n",
    "        self.k = 0\n",
    "        self.M = 0\n",
    "        self.S = 0\n",
    "        \n",
    "        self.__call__(lst)\n",
    "    \n",
    "    def update(self,x):\n",
    "        if x is None:\n",
    "            return\n",
    "        self.k += 1\n",
    "        newM = self.M + (x - self.M)*1./self.k\n",
    "        newS = self.S + (x - self.M)*(x - newM)\n",
    "        self.M, self.S = newM, newS\n",
    "\n",
    "    def consume(self,lst):\n",
    "        lst = iter(lst)\n",
    "        for x in lst:\n",
    "            self.update(x)\n",
    "    \n",
    "    def __call__(self,x):\n",
    "        if hasattr(x,\"__iter__\"):\n",
    "            self.consume(x)\n",
    "        else:\n",
    "            self.update(x)\n",
    "            \n",
    "    @property\n",
    "    def mean(self):\n",
    "        return self.M\n",
    "    @property\n",
    "    def meanfull(self):\n",
    "        return self.mean, self.std/math.sqrt(self.k)\n",
    "    @property\n",
    "    def std(self):\n",
    "        if self.k==1:\n",
    "            return 0\n",
    "        return math.sqrt(self.S/(self.k-1))\n",
    "    def __repr__(self):\n",
    "        return \"<Welford: {} +- {}>\".format(self.mean, self.std)"
   ]
  },
  {
   "cell_type": "code",
   "execution_count": 41,
   "metadata": {},
   "outputs": [
    {
     "name": "stdout",
     "output_type": "stream",
     "text": [
      "<Welford: 4.5 +- 3.0276503540974917>\n",
      "<Welford: 4.499999999999999 +- 2.9468984587725093>\n",
      "<Welford: 4.499999999999998 +- 2.9213837061606083>\n",
      "(4.499999999999998, 0.5333692516640697)\n"
     ]
    }
   ],
   "source": [
    "foo = Welford()\n",
    "foo(range(10))\n",
    "print(foo)\n",
    "foo(range(10))\n",
    "print(foo)\n",
    "foo(range(10))\n",
    "print(foo)\n",
    "print(foo.meanfull)"
   ]
  },
  {
   "cell_type": "code",
   "execution_count": 68,
   "metadata": {},
   "outputs": [
    {
     "name": "stdout",
     "output_type": "stream",
     "text": [
      "<Welford: 0 +- -0.0>\n",
      "-0.41084197204814643\n",
      "2.9389021991340796\n",
      "4.377035003278943\n",
      "3.713511314343811\n",
      "2.0669770534930687\n",
      "1.4081083939235324\n",
      "0.9889651668839295\n",
      "0.3393608956209708\n",
      "-0.7480189211002257\n",
      "-1.545885986166138\n",
      "2.5416460460042343\n",
      "1.6802058677596858\n",
      "-0.28321302335132154\n",
      "-1.4703212287480325\n",
      "-0.9700582076173557\n",
      "-2.8663182361749744\n",
      "-3.48722737120222\n",
      "6.171006092896868\n",
      "11.968457694765535\n",
      "11.616672352583679\n",
      "12.568646218545112\n",
      "12.2361830099304\n",
      "10.455294615950713\n",
      "22.994605858231253\n",
      "6.994833869722056\n",
      "1.921923091591489\n",
      "-0.6418593342696949\n",
      "-1.7017503713743882\n",
      "-0.5194793808714601\n",
      "-0.2766681711749315\n",
      "-0.19366667957443093\n",
      "-1.4005906740257905\n",
      "-1.9508303677280923\n",
      "-2.536049462819023\n",
      "-3.122411888664018\n",
      "-3.5003588012012377\n",
      "-3.7694851911478042\n",
      "17.058728643525\n",
      "9.163522664151595\n"
     ]
    }
   ],
   "source": [
    "welford = Welford()\n",
    "X = [13458.4938203836, 16049.4957449789, 19860.8045464739, 20169.7036589746, 18334.0489810167, 17648.5296324581, 17250.9967157409, 16695.4661875298, 15856.851747196, 15287.7706944907, 17994.4627253484, 17466.3685046983, 16327.5523300049, 15681.3499655485, 15937.5609079041, 15004.8706732747, 14691.5561787629, 19147.9313260361, 22893.9138627761, 23774.1139242753, 25745.3615012616, 26841.6405313642, 26294.5933524249, 56813.7444502739, 31244.4836055811, 23037.2198116763, 19023.2275023935, 17416.8217712373, 19150.0898907596, 19494.9275538184, 19609.2407898751, 17997.4979520362, 17280.8368701055, 16535.2102791069, 15801.0184371818, 15330.0276009174, 14994.0713348652, 41053.3742755135, 31539.1124986513]\n",
    "print(welford)\n",
    "welford([12300, 14000, 15000])\n",
    "for x in X:\n",
    "    welford(x)\n",
    "    if welford.std == 0:\n",
    "        z = 0\n",
    "    else:\n",
    "        z = (x - welford.mean) / welford.meanfull[1]\n",
    "    print(z)"
   ]
  },
  {
   "cell_type": "markdown",
   "metadata": {},
   "source": [
    "![Q function](https://d20ohkaloyme4g.cloudfront.net/img/document_thumbnails/1b2089f274d051cf03a7f236e63b2971/thumb_1200_1697.png)"
   ]
  }
 ],
 "metadata": {
  "kernelspec": {
   "display_name": "Python 3",
   "language": "python",
   "name": "python3"
  },
  "language_info": {
   "codemirror_mode": {
    "name": "ipython",
    "version": 3
   },
   "file_extension": ".py",
   "mimetype": "text/x-python",
   "name": "python",
   "nbconvert_exporter": "python",
   "pygments_lexer": "ipython3",
   "version": "3.8.3"
  }
 },
 "nbformat": 4,
 "nbformat_minor": 4
}
